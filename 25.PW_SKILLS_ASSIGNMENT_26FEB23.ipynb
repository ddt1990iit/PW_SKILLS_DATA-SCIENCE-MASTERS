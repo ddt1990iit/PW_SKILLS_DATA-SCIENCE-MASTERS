{
 "cells": [
  {
   "cell_type": "markdown",
   "id": "a668a1f5",
   "metadata": {},
   "source": [
    "# ASSIGNMENT_25thFEB_2023_PWSKIILLS"
   ]
  },
  {
   "cell_type": "markdown",
   "id": "c69177ee",
   "metadata": {},
   "source": [
    "## Consider the below code to answer further questions:\n",
    "### import numpy as np\n",
    "### list_ = [ ‘1’ , ’2’ , ‘3’ , ‘4’ , ‘5’ ]\n",
    "### array_list = np.array(object = list_)\n",
    "## Q1. Is there any difference in the data type of variables list_ and array_list? If there is then write a code to print the data types of both the variables.\n",
    "\n"
   ]
  },
  {
   "cell_type": "code",
   "execution_count": 17,
   "id": "bf7a88dd",
   "metadata": {},
   "outputs": [],
   "source": [
    "import numpy as np\n",
    "list_ = [ '1' , '2' , '3' , '4' , '5' ]\n",
    "array_list = np.array(object = list_)"
   ]
  },
  {
   "cell_type": "markdown",
   "id": "48ad64dc",
   "metadata": {},
   "source": [
    "### Yes, there is a difference in the data type of variables list_ and array_list.\n",
    "\n",
    "**list_** has the data type of <class 'list'>\n",
    "\n",
    "**array_list** has the data type of <class 'numpy.ndarray'>. It is basically a numpy n dimensional array datatype with one dimenion."
   ]
  },
  {
   "cell_type": "code",
   "execution_count": 18,
   "id": "aa44d270",
   "metadata": {},
   "outputs": [
    {
     "name": "stdout",
     "output_type": "stream",
     "text": [
      "The data type of list_ is : <class 'list'>\n",
      "The data type of array_list is :  <class 'numpy.ndarray'>\n"
     ]
    }
   ],
   "source": [
    "# printing the data type of list_ \n",
    "\n",
    "print('The data type of list_ is :',type(list_))\n",
    "\n",
    "# printing the data type of array_list\n",
    "\n",
    "print('The data type of array_list is : ',type(array_list))"
   ]
  },
  {
   "cell_type": "markdown",
   "id": "5cb83304",
   "metadata": {},
   "source": [
    "## Q2. Write a code to print the data type of each and every element of both the variables list_ and array_list.\n"
   ]
  },
  {
   "cell_type": "code",
   "execution_count": 19,
   "id": "ba2c2bd4",
   "metadata": {},
   "outputs": [
    {
     "name": "stdout",
     "output_type": "stream",
     "text": [
      "The data type of 1 in list_ is \n",
      ": <class 'str'>\n",
      "The data type of 2 in list_ is \n",
      ": <class 'str'>\n",
      "The data type of 3 in list_ is \n",
      ": <class 'str'>\n",
      "The data type of 4 in list_ is \n",
      ": <class 'str'>\n",
      "The data type of 5 in list_ is \n",
      ": <class 'str'>\n",
      "The data type of 1 in list_ is \n",
      ": <class 'numpy.str_'>\n",
      "The data type of 2 in list_ is \n",
      ": <class 'numpy.str_'>\n",
      "The data type of 3 in list_ is \n",
      ": <class 'numpy.str_'>\n",
      "The data type of 4 in list_ is \n",
      ": <class 'numpy.str_'>\n",
      "The data type of 5 in list_ is \n",
      ": <class 'numpy.str_'>\n"
     ]
    }
   ],
   "source": [
    "# Function to get the data type of every element of list_\n",
    "\n",
    "def data_type_list(list):\n",
    "    for i in list:\n",
    "        print(f'The data type of {i} in list_ is \\n: {type(i)}')\n",
    "\n",
    "# Function to get the data type of every element of array_list\n",
    "              \n",
    "def data_type_arraylist(array_list):\n",
    "    for i in array_list:\n",
    "        print(f'The data type of {i} in list_ is \\n: {type(i)}')\n",
    "              \n",
    "              \n",
    "data_type_list(list_)\n",
    "data_type_arraylist(array_list)"
   ]
  },
  {
   "cell_type": "markdown",
   "id": "65eff588",
   "metadata": {},
   "source": [
    "## Q3. Considering the following changes in the variable, array_list:\n",
    "### array_list = np.array(object = list_, dtype = int)\n",
    "### Will there be any difference in the data type of the elements present in both the variables, list_ and\n",
    "### array_list? If so then print the data types of each and every element present in both the variables, list_\n",
    "### and array_list."
   ]
  },
  {
   "cell_type": "code",
   "execution_count": 20,
   "id": "d2a1e9e9",
   "metadata": {},
   "outputs": [],
   "source": [
    "array_list = np.array(object = list_, dtype = int)"
   ]
  },
  {
   "cell_type": "markdown",
   "id": "92ba83e0",
   "metadata": {},
   "source": [
    "### Yes, There will be differnece in the data type of the element in both the variables, list_ and array_list "
   ]
  },
  {
   "cell_type": "code",
   "execution_count": 21,
   "id": "16594395",
   "metadata": {},
   "outputs": [
    {
     "name": "stdout",
     "output_type": "stream",
     "text": [
      "The data type of 1 in list_ is \n",
      ": <class 'str'>\n",
      "The data type of 2 in list_ is \n",
      ": <class 'str'>\n",
      "The data type of 3 in list_ is \n",
      ": <class 'str'>\n",
      "The data type of 4 in list_ is \n",
      ": <class 'str'>\n",
      "The data type of 5 in list_ is \n",
      ": <class 'str'>\n",
      "The data type of 1 in list_ is \n",
      ": <class 'numpy.int32'>\n",
      "The data type of 2 in list_ is \n",
      ": <class 'numpy.int32'>\n",
      "The data type of 3 in list_ is \n",
      ": <class 'numpy.int32'>\n",
      "The data type of 4 in list_ is \n",
      ": <class 'numpy.int32'>\n",
      "The data type of 5 in list_ is \n",
      ": <class 'numpy.int32'>\n"
     ]
    }
   ],
   "source": [
    "# Print the data type of the every element in variable list_\n",
    "data_type_list(list_)\n",
    "\n",
    "# Print the data type of the every element in variable array_list after updation using above code \n",
    "data_type_arraylist(array_list)"
   ]
  },
  {
   "cell_type": "markdown",
   "id": "fc14e4b1",
   "metadata": {},
   "source": [
    "## Consider the below code to answer further questions:\n",
    "### import numpy as np\n",
    "### num_list = [ [ 1 , 2 , 3 ] , [ 4 , 5 , 6 ] ]\n",
    "### num_array = np.array(object = num_list)\n",
    "## Q4. Write a code to find the following characteristics of variable, num_array:\n",
    "### (i) shape\n",
    "### (ii) size\n"
   ]
  },
  {
   "cell_type": "code",
   "execution_count": 23,
   "id": "cc429020",
   "metadata": {},
   "outputs": [
    {
     "data": {
      "text/plain": [
       "array([[1, 2, 3],\n",
       "       [4, 5, 6]])"
      ]
     },
     "metadata": {},
     "output_type": "display_data"
    }
   ],
   "source": [
    "import numpy as np\n",
    "num_list = [ [ 1 , 2 , 3 ] , [ 4 , 5 , 6 ] ]\n",
    "num_array = np.array(object = num_list)\n",
    "\n",
    "display(num_array)"
   ]
  },
  {
   "cell_type": "code",
   "execution_count": 28,
   "id": "5af4e487",
   "metadata": {},
   "outputs": [
    {
     "name": "stdout",
     "output_type": "stream",
     "text": [
      "(2, 3)\n"
     ]
    }
   ],
   "source": [
    "# Code to print the shape of the above array \n",
    "\n",
    "print(num_array.shape)"
   ]
  },
  {
   "cell_type": "code",
   "execution_count": 27,
   "id": "5166e6bb",
   "metadata": {},
   "outputs": [
    {
     "name": "stdout",
     "output_type": "stream",
     "text": [
      "6\n"
     ]
    }
   ],
   "source": [
    "# Code to print the size of the above array \n",
    "\n",
    "print(num_array.size)"
   ]
  },
  {
   "cell_type": "markdown",
   "id": "596fba68",
   "metadata": {},
   "source": [
    "## Q5. Write a code to create numpy array of 3*3 matrix containing zeros only, using a numpy array creation function.\n",
    "\n",
    "### [Hint: The size of the array will be 9 and the shape will be (3,3).]\n"
   ]
  },
  {
   "cell_type": "code",
   "execution_count": 33,
   "id": "3c86e1c2",
   "metadata": {},
   "outputs": [
    {
     "name": "stdout",
     "output_type": "stream",
     "text": [
      "[[0. 0. 0.]\n",
      " [0. 0. 0.]\n",
      " [0. 0. 0.]]\n"
     ]
    }
   ],
   "source": [
    "# Code to print the numpy array containing Zeros\n",
    "\n",
    "import numpy as np\n",
    "\n",
    "array_zero = np.zeros((3,3)) # Inbuilt function for numpy array creation\n",
    "\n",
    "print(array_zero)"
   ]
  },
  {
   "cell_type": "code",
   "execution_count": 35,
   "id": "0bbf9882",
   "metadata": {},
   "outputs": [
    {
     "data": {
      "text/plain": [
       "numpy.ndarray"
      ]
     },
     "execution_count": 35,
     "metadata": {},
     "output_type": "execute_result"
    }
   ],
   "source": [
    "type(array_zero)"
   ]
  },
  {
   "cell_type": "markdown",
   "id": "09efc1dd",
   "metadata": {},
   "source": [
    "## Q6. Create an identity matrix of shape (5,5) using numpy functions?\n",
    "### [Hint: An identity matrix is a matrix containing 1 diagonally and other elements will be 0.]"
   ]
  },
  {
   "cell_type": "code",
   "execution_count": 32,
   "id": "863f4e8a",
   "metadata": {},
   "outputs": [
    {
     "name": "stdout",
     "output_type": "stream",
     "text": [
      "[[1. 0. 0. 0. 0.]\n",
      " [0. 1. 0. 0. 0.]\n",
      " [0. 0. 1. 0. 0.]\n",
      " [0. 0. 0. 1. 0.]\n",
      " [0. 0. 0. 0. 1.]]\n"
     ]
    }
   ],
   "source": [
    "# Code to print the identity matrix of shape(5,5) using np.matrix() function\n",
    "\n",
    "import numpy as np\n",
    "\n",
    "array_identity = np.matrix(np.identity(5)) # Inbuilt function for matrix creation\n",
    "\n",
    "print(array_identity)"
   ]
  },
  {
   "cell_type": "code",
   "execution_count": 34,
   "id": "8497092a",
   "metadata": {},
   "outputs": [
    {
     "data": {
      "text/plain": [
       "numpy.matrix"
      ]
     },
     "execution_count": 34,
     "metadata": {},
     "output_type": "execute_result"
    }
   ],
   "source": [
    "type(array_identity)"
   ]
  }
 ],
 "metadata": {
  "kernelspec": {
   "display_name": "Python 3",
   "language": "python",
   "name": "python3"
  },
  "language_info": {
   "codemirror_mode": {
    "name": "ipython",
    "version": 3
   },
   "file_extension": ".py",
   "mimetype": "text/x-python",
   "name": "python",
   "nbconvert_exporter": "python",
   "pygments_lexer": "ipython3",
   "version": "3.8.8"
  }
 },
 "nbformat": 4,
 "nbformat_minor": 5
}
