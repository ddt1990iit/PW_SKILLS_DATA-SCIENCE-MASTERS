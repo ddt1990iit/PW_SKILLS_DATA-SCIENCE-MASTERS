{
 "cells": [
  {
   "cell_type": "markdown",
   "id": "90931851",
   "metadata": {},
   "source": [
    "# ASSIGNMENT_12thFEB_2023_PWSKIILLS"
   ]
  },
  {
   "attachments": {
    "3.PNG": {
     "image/png": "[encoded data removed]"
    }
   },
   "cell_type": "markdown",
   "id": "89382aad",
   "metadata": {},
   "source": [
    "![3.PNG](attachment:3.PNG)"
   ]
  },
  {
   "cell_type": "markdown",
   "id": "b867b729",
   "metadata": {},
   "source": [
    "**An exception** in Python is an incident that happens while executing a program that causes the regular course of the program's commands to be disrupted. When a Python code comes across a condition it can't handle, it raises an exception. An object in Python that describes an error is called an exception.\n",
    "\n",
    "\n"
   ]
  },
  {
   "cell_type": "markdown",
   "id": "e4e47391",
   "metadata": {},
   "source": [
    "When a Python code throws an exception, it has two options: handle the exception immediately or stop and quit."
   ]
  },
  {
   "cell_type": "markdown",
   "id": "2477419f",
   "metadata": {},
   "source": [
    "**Syntax Error :** The syntax error occurs when we are not following the proper structure or syntax of the language. A syntax error is also known as a parsing error.\n",
    "\n",
    "When Python parses the program and finds an incorrect statement it is known as a syntax error. When the parser found a syntax error it exits with an error message without running anything."
   ]
  },
  {
   "cell_type": "markdown",
   "id": "9979353b",
   "metadata": {},
   "source": [
    "**Difference Between Exception and Errors :** : Error represents critical conditions that can not be caught and handled by the code of the program. \n",
    "\n",
    "On the other hand, the Exception represents concerning conditions raised by the application itself; these can be caught and handled within the code to ensure that ​the application continues to run smoothly."
   ]
  },
  {
   "attachments": {
    "4.PNG": {
     "image/png": "[encoded data removed]"
    }
   },
   "cell_type": "markdown",
   "id": "9b7cd235",
   "metadata": {},
   "source": [
    "![4.PNG](attachment:4.PNG)"
   ]
  },
  {
   "cell_type": "markdown",
   "id": "a94b672b",
   "metadata": {},
   "source": [
    "If an exception occurs during execution of the try clause, the exception may be handled by an except clause. If the exception is not handled by an except clause, the exception is re-raised after the finally clause has been executed."
   ]
  },
  {
   "cell_type": "code",
   "execution_count": 3,
   "id": "544a707f",
   "metadata": {},
   "outputs": [
    {
     "name": "stdout",
     "output_type": "stream",
     "text": [
      "This is output from the finally block\n",
      "\n",
      "Division output of number 10 and 20 is 0.5\n",
      "division by zero\n",
      "This is output from the finally block\n",
      "\n",
      "Division output of number 20 and 0 is None\n",
      "This is output from the finally block\n"
     ]
    },
    {
     "ename": "TypeError",
     "evalue": "unsupported operand type(s) for /: 'int' and 'str'",
     "output_type": "error",
     "traceback": [
      "\u001b[1;31m---------------------------------------------------------------------------\u001b[0m",
      "\u001b[1;31mTypeError\u001b[0m                                 Traceback (most recent call last)",
      "\u001b[1;32m<ipython-input-3-632dc4a09f4c>\u001b[0m in \u001b[0;36m<module>\u001b[1;34m\u001b[0m\n\u001b[0;32m     19\u001b[0m \u001b[0mprint\u001b[0m\u001b[1;33m(\u001b[0m\u001b[1;34m'\\nDivision output of number {} and {} is {}'\u001b[0m\u001b[1;33m.\u001b[0m\u001b[0mformat\u001b[0m\u001b[1;33m(\u001b[0m\u001b[0mb\u001b[0m\u001b[1;33m,\u001b[0m\u001b[0md\u001b[0m\u001b[1;33m,\u001b[0m\u001b[0mdivide\u001b[0m\u001b[1;33m(\u001b[0m\u001b[0mb\u001b[0m\u001b[1;33m,\u001b[0m\u001b[0md\u001b[0m\u001b[1;33m)\u001b[0m\u001b[1;33m)\u001b[0m\u001b[1;33m)\u001b[0m \u001b[1;31m# Exception due to this operation is handled\u001b[0m\u001b[1;33m\u001b[0m\u001b[1;33m\u001b[0m\u001b[0m\n\u001b[0;32m     20\u001b[0m \u001b[1;33m\u001b[0m\u001b[0m\n\u001b[1;32m---> 21\u001b[1;33m \u001b[0mprint\u001b[0m\u001b[1;33m(\u001b[0m\u001b[1;34m'\\nDivision output of number {} and {} is {}'\u001b[0m\u001b[1;33m.\u001b[0m\u001b[0mformat\u001b[0m\u001b[1;33m(\u001b[0m\u001b[0ma\u001b[0m\u001b[1;33m,\u001b[0m\u001b[0mc\u001b[0m\u001b[1;33m,\u001b[0m\u001b[0mdivide\u001b[0m\u001b[1;33m(\u001b[0m\u001b[0ma\u001b[0m\u001b[1;33m,\u001b[0m\u001b[0mc\u001b[0m\u001b[1;33m)\u001b[0m\u001b[1;33m)\u001b[0m\u001b[1;33m)\u001b[0m \u001b[1;31m# Exception due to this operation is not handled\u001b[0m\u001b[1;33m\u001b[0m\u001b[1;33m\u001b[0m\u001b[0m\n\u001b[0m\u001b[0;32m     22\u001b[0m \u001b[1;33m\u001b[0m\u001b[0m\n\u001b[0;32m     23\u001b[0m \u001b[1;33m\u001b[0m\u001b[0m\n",
      "\u001b[1;32m<ipython-input-3-632dc4a09f4c>\u001b[0m in \u001b[0;36mdivide\u001b[1;34m(num1, num2)\u001b[0m\n\u001b[0;32m      6\u001b[0m \u001b[1;32mdef\u001b[0m \u001b[0mdivide\u001b[0m\u001b[1;33m(\u001b[0m\u001b[0mnum1\u001b[0m\u001b[1;33m,\u001b[0m\u001b[0mnum2\u001b[0m\u001b[1;33m)\u001b[0m\u001b[1;33m:\u001b[0m\u001b[1;33m\u001b[0m\u001b[1;33m\u001b[0m\u001b[0m\n\u001b[0;32m      7\u001b[0m     \u001b[1;32mtry\u001b[0m\u001b[1;33m:\u001b[0m\u001b[1;33m\u001b[0m\u001b[1;33m\u001b[0m\u001b[0m\n\u001b[1;32m----> 8\u001b[1;33m         \u001b[0mdiv_output\u001b[0m \u001b[1;33m=\u001b[0m \u001b[0mnum1\u001b[0m\u001b[1;33m/\u001b[0m\u001b[0mnum2\u001b[0m\u001b[1;33m\u001b[0m\u001b[1;33m\u001b[0m\u001b[0m\n\u001b[0m\u001b[0;32m      9\u001b[0m         \u001b[1;32mreturn\u001b[0m \u001b[0mdiv_output\u001b[0m\u001b[1;33m\u001b[0m\u001b[1;33m\u001b[0m\u001b[0m\n\u001b[0;32m     10\u001b[0m \u001b[1;33m\u001b[0m\u001b[0m\n",
      "\u001b[1;31mTypeError\u001b[0m: unsupported operand type(s) for /: 'int' and 'str'"
     ]
    }
   ],
   "source": [
    "# Example \n",
    "a = 10\n",
    "b = 20\n",
    "c = 'Dharmendra'\n",
    "d = 0\n",
    "def divide(num1,num2):\n",
    "    try:\n",
    "        div_output = num1/num2\n",
    "        return div_output\n",
    "    \n",
    "    except ZeroDivisionError as e: # Zero division error is handled Properly\n",
    "        print(e)\n",
    "    \n",
    "    finally:\n",
    "        print('This is output from the finally block')\n",
    "        \n",
    "print('\\nDivision output of number {} and {} is {}'.format(a,b,divide(a,b)))\n",
    "\n",
    "print('\\nDivision output of number {} and {} is {}'.format(b,d,divide(b,d))) # Exception due to this operation is handled\n",
    "\n",
    "print('\\nDivision output of number {} and {} is {}'.format(a,c,divide(a,c))) # Exception due to this operation is not handled\n",
    "    \n",
    "\n",
    "    "
   ]
  },
  {
   "attachments": {
    "5.PNG": {
     "image/png": "[encoded data removed]"
    }
   },
   "cell_type": "markdown",
   "id": "d122392e",
   "metadata": {},
   "source": [
    "![5.PNG](attachment:5.PNG)"
   ]
  },
  {
   "cell_type": "markdown",
   "id": "10f775aa",
   "metadata": {},
   "source": [
    "The **try** and **except block** in Python is used to catch and handle exceptions. Python executes code following the try statement as a “normal” part of the program. The code that follows the except statement is the program’s response to any exceptions in the preceding try clause\n",
    "\n",
    "**Finally Block** : It will execute anyhow weather exception is handled or not."
   ]
  },
  {
   "attachments": {
    "10.PNG": {
     "image/png": "[encoded data removed]"
    }
   },
   "cell_type": "markdown",
   "id": "c3c3135e",
   "metadata": {},
   "source": [
    "![10.PNG](attachment:10.PNG)"
   ]
  },
  {
   "cell_type": "code",
   "execution_count": 6,
   "id": "ebfd053f",
   "metadata": {},
   "outputs": [
    {
     "name": "stdout",
     "output_type": "stream",
     "text": [
      "Enter the file name you want to open: test\n",
      "[Errno 2] No such file or directory: 'C:\\\\Users\\\\Manoj singh\\\\PW_SKILLS\\\\PW_SKILLS_DATA SCIENCE MASTERS_ASSIGNMENTS\\\\test'\n",
      "name 'file' is not defined\n"
     ]
    }
   ],
   "source": [
    "#Example\n",
    "import os \n",
    "\n",
    "filename = input('Enter the file name you want to open: ') \n",
    "\n",
    "# This code is written to get the current working directory\n",
    "path = os.path.join(os.getcwd(),filename)\n",
    "try :\n",
    "    file = open(path,'r')  # code to open the file in the reading mode if file exist\n",
    "    print(file.read())\n",
    "except FileNotFoundError as e:\n",
    "    print(e)\n",
    "finally:\n",
    "    try:\n",
    "        file.close()\n",
    "    except NameError as e:  # Used to hyandle the situation when file is not opened in read mode\n",
    "            print(e)"
   ]
  },
  {
   "cell_type": "code",
   "execution_count": null,
   "id": "74171306",
   "metadata": {},
   "outputs": [],
   "source": []
  },
  {
   "attachments": {
    "6.PNG": {
     "image/png": "[encoded data removed]"
    }
   },
   "cell_type": "markdown",
   "id": "12c5790c",
   "metadata": {},
   "source": [
    "![6.PNG](attachment:6.PNG)"
   ]
  },
  {
   "cell_type": "markdown",
   "id": "f12f8044",
   "metadata": {},
   "source": [
    "The **try** block lets you test a block of code for errors."
   ]
  },
  {
   "cell_type": "markdown",
   "id": "55184183",
   "metadata": {},
   "source": [
    "The **else** block lets you execute code when there is no error."
   ]
  },
  {
   "cell_type": "markdown",
   "id": "dda1d09a",
   "metadata": {},
   "source": [
    "The **finally block** lets you execute code, regardless of the result of the try- and except blocks."
   ]
  },
  {
   "cell_type": "markdown",
   "id": "c9e5b631",
   "metadata": {},
   "source": [
    "The **raise** keyword is used to raise an exception."
   ]
  },
  {
   "cell_type": "code",
   "execution_count": 8,
   "id": "d5c04f62",
   "metadata": {},
   "outputs": [
    {
     "name": "stdout",
     "output_type": "stream",
     "text": [
      "The Value of C is  200\n",
      "The else block is executed\n"
     ]
    }
   ],
   "source": [
    "# Example of Try and Else\n",
    "\n",
    "try:\n",
    "    a = 10\n",
    "    b = 0\n",
    "    c = a*b\n",
    "    print('The Value of C is ',c)\n",
    "except Exception as e:\n",
    "    print(e)\n",
    "else:\n",
    "    print('The else block is executed')"
   ]
  },
  {
   "cell_type": "code",
   "execution_count": 14,
   "id": "2a107218",
   "metadata": {},
   "outputs": [
    {
     "name": "stdout",
     "output_type": "stream",
     "text": [
      "The else block will not be executed if program enters here\n",
      "\n",
      " division by zero\n",
      "\n",
      "This will execute if the exception block is executed!!!! Finally block Executed\n"
     ]
    }
   ],
   "source": [
    "# Finally statement\n",
    "try:\n",
    "    a = 10\n",
    "    b = 0\n",
    "    c = a/b\n",
    "    print('\\nThe Value of C is ',c)\n",
    "except Exception as e:\n",
    "    print('The else block will not be executed if program enters here')\n",
    "    print('\\n',e)\n",
    "else:\n",
    "    print('\\nThe else block is executed') \n",
    "    \n",
    "finally:\n",
    "    print('\\nThis will execute if the exception block is executed!!!! Finally block Executed')"
   ]
  },
  {
   "cell_type": "code",
   "execution_count": 21,
   "id": "02e68405",
   "metadata": {},
   "outputs": [
    {
     "name": "stdout",
     "output_type": "stream",
     "text": [
      "Enter the number100\n",
      "The number 100 is inside the allowed range\n"
     ]
    }
   ],
   "source": [
    "# Raise Statement\n",
    "\n",
    "try:\n",
    "    x = int(input('Enter the number'))\n",
    "    if x > 100:\n",
    "        raise RuntimeError\n",
    "\n",
    "except RuntimeError:\n",
    "    print('Value provided is out of the range')\n",
    "    \n",
    "else:\n",
    "    print('The number {} is inside the allowed range: '.format(x))\n",
    "            "
   ]
  },
  {
   "attachments": {
    "7.PNG": {
     "image/png": "[encoded data removed]"
    }
   },
   "cell_type": "markdown",
   "id": "52466fc6",
   "metadata": {},
   "source": [
    "![7.PNG](attachment:7.PNG)"
   ]
  },
  {
   "cell_type": "markdown",
   "id": "04c7d00d",
   "metadata": {},
   "source": [
    "**Custom or User-defined Exceptions** are designed as per the requirement of the program. Using custom Exception we can have our own Exception and a meaningful message explaining the cause of the exception. We can create an exception by extending the Exception or RuntimeException class in our own Exception class.\n",
    "\n",
    "Exceptions need to be derived from the Exception class, either directly or indirectly. Although not mandatory, most of the exceptions are named as names that end in “Error” similar to the naming of the standard exceptions in python."
   ]
  },
  {
   "cell_type": "markdown",
   "id": "7b1d76fb",
   "metadata": {},
   "source": [
    "### Python provides a lot of built-in exception classes that outputs an error when something in your code goes wrong. The error classes can also be used to handle those specific exceptions using try-except blocks.\n",
    "\n",
    "### However, there are times, when you need to provide more context in exceptions to deal with specific requirements."
   ]
  },
  {
   "cell_type": "code",
   "execution_count": 37,
   "id": "8af071d5",
   "metadata": {
    "scrolled": true
   },
   "outputs": [
    {
     "name": "stdout",
     "output_type": "stream",
     "text": [
      "The age of citizen15\n",
      "Not Eligible to Vote!!!Underage\n"
     ]
    }
   ],
   "source": [
    "# Example\n",
    "# User defined Exception Class\n",
    "class my_error(Exception):\n",
    "    pass\n",
    "    \n",
    "try:\n",
    "    age = int(input('The age of citizen'))\n",
    "    if age >18:\n",
    "        print('Citizen is eligible to vote')\n",
    "    else:\n",
    "        raise my_error\n",
    "\n",
    "except ValueError as e:  # This is used to handle if the string value provided by user \n",
    "    print(e)\n",
    "\n",
    "except my_error:\n",
    "    print(\"Not Eligible to Vote!!!Underage\")\n",
    "\n",
    "    "
   ]
  },
  {
   "attachments": {
    "8.PNG": {
     "image/png": "[encoded data removed]"
    }
   },
   "cell_type": "markdown",
   "id": "872b9b50",
   "metadata": {},
   "source": [
    "![8.PNG](attachment:8.PNG)"
   ]
  },
  {
   "cell_type": "code",
   "execution_count": 52,
   "id": "1eae42f9",
   "metadata": {},
   "outputs": [
    {
     "name": "stdout",
     "output_type": "stream",
     "text": [
      "enter the speed of the vehicle300\n",
      "!!! INVALID SPEED\n",
      "The entered speed 300 is out of allowed range\n",
      "Enter the speed between 0-200\n"
     ]
    }
   ],
   "source": [
    "#Custom Exception Class\n",
    "\n",
    "class Invalid_Speed(Exception):\n",
    "    def __init__(self,speed):\n",
    "        self.speed = speed\n",
    "    \n",
    "    def display_speed(self):\n",
    "        print('!!! INVALID SPEED')\n",
    "        return self.speed\n",
    "        \n",
    "        \n",
    "\n",
    "speed = int(input('enter the speed of the vehicle'))\n",
    "\n",
    "try:\n",
    "    if speed < 200 and speed >0:\n",
    "        print('The speed is valid')\n",
    "    else:    \n",
    "        raise Invalid_Speed(speed)  # Raising a custom exception\n",
    "        \n",
    "except Invalid_Speed as error:\n",
    "    print('The entered speed {} is out of allowed range'.format(error.display_speed()))\n",
    "    print('Enter the speed between 0-200')\n",
    "                  \n",
    "                  "
   ]
  }
 ],
 "metadata": {
  "kernelspec": {
   "display_name": "Python 3",
   "language": "python",
   "name": "python3"
  },
  "language_info": {
   "codemirror_mode": {
    "name": "ipython",
    "version": 3
   },
   "file_extension": ".py",
   "mimetype": "text/x-python",
   "name": "python",
   "nbconvert_exporter": "python",
   "pygments_lexer": "ipython3",
   "version": "3.8.8"
  }
 },
 "nbformat": 4,
 "nbformat_minor": 5
}
