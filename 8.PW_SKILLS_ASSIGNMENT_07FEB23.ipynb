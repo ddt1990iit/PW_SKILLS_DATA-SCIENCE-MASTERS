{
 "cells": [
  {
   "cell_type": "markdown",
   "id": "213f95b1",
   "metadata": {},
   "source": [
    "# ASSIGNMENT_07thFEB_2023_PWSKIILLS"
   ]
  },
  {
   "cell_type": "markdown",
   "id": "e76428da",
   "metadata": {},
   "source": [
    "### Q1. You are writing code for a company. The requirement of the company is that you create a python\n",
    "### function that will check whether the password entered by the user is correct or not. The function should\n",
    "### take the password as input and return the string “Valid Password” if the entered password follows the\n",
    "### below-given password guidelines else it should return “Invalid Password”.\n",
    "\n",
    "#### Note: 1. The Password should contain at least two uppercase letters and at least two lowercase letters.\n",
    "#### 2. The Password should contain at least a number and three special characters.\n",
    "#### 3. The length of the password should be 10 characters long."
   ]
  },
  {
   "cell_type": "code",
   "execution_count": 27,
   "id": "211bdb28",
   "metadata": {},
   "outputs": [
    {
     "name": "stdout",
     "output_type": "stream",
     "text": [
      "================================================================================================================\n",
      "Do you want to check for Password, Yes or No: yes\n",
      "\n",
      "Enter the password to check for Validity: DDt1990.iitr@@@@\n",
      "\n",
      "Valid Password\n",
      "\n",
      "Do you want to check for Password, Yes or No: yes\n",
      "\n",
      "Enter the password to check for Validity: Dt1990.iitr@@@@\n",
      "\n",
      "Invalid Password!!!\n",
      "\n",
      "The Password should contain at least two uppercase letters and at least two lowercase letters.\n",
      "\n",
      "Do you want to check for Password, Yes or No: yes\n",
      "\n",
      "Enter the password to check for Validity: DDt1990.iitr@\n",
      "\n",
      "Invalid Password!!!\n",
      "\n",
      "The Password should contain at least a number and three special characters.\n",
      "\n",
      "Do you want to check for Password, Yes or No: yes\n",
      "\n",
      "Enter the password to check for Validity: DDt1990.i\n",
      "\n",
      "Invalid Password!! The length of the password should be 10 characters long.\n",
      "\n",
      "Do you want to check for Password, Yes or No: no\n",
      "\n",
      "THANK YOU FOR YOUR TIME!!!\n"
     ]
    }
   ],
   "source": [
    "def check_password(password):\n",
    "    if len(password) < 10:\n",
    "        print('\\nInvalid Password!! The length of the password should be 10 characters long.\\n')\n",
    "    \n",
    "    else:\n",
    "        count_upper = 0\n",
    "        count_lower = 0\n",
    "        count_digit = 0\n",
    "        count_special = 0\n",
    "        for i in password:\n",
    "            \n",
    "            # Code to check for the ASCII corresponding to Letters\n",
    "            \n",
    "            if ord(i) >= 97 and ord(i) <=122:\n",
    "                count_lower=count_lower+1\n",
    "            elif ord(i) >= 65 and ord(i) <=90: \n",
    "                count_upper = count_upper+1\n",
    "            elif ord(i) >= 48 and ord(i) <=57:\n",
    "                count_digit = count_digit+1\n",
    "            elif ord(i) >= 33 and ord(i) <=47:\n",
    "                count_special = count_special+1\n",
    "            elif ord(i) >= 58 and ord(i) <=64:\n",
    "                count_special = count_special+1\n",
    "            elif ord(i) >= 91 and ord(i) <=96:\n",
    "                count_special = count_special+1\n",
    "            elif ord(i) >= 123 and ord(i) <=126:\n",
    "                count_special = count_special+1\n",
    "\n",
    "        if count_upper >=2 and count_lower >= 2:\n",
    "            if count_digit >=1 and count_special >=3 :\n",
    "                print('\\nValid Password\\n')\n",
    "            else:\n",
    "                print('\\nInvalid Password!!!\\n\\nThe Password should contain at least a number and three special characters.\\n')\n",
    "        else:\n",
    "            print('\\nInvalid Password!!!\\n\\nThe Password should contain at least two uppercase letters and at least two lowercase letters.\\n')\n",
    "            \n",
    "print('================================================================================================================')\n",
    "\n",
    "while True:\n",
    "    \n",
    "    query = input('Do you want to check for Password, Yes or No: ')\n",
    "    query1 = query.lower()\n",
    "    if query1 == 'yes':\n",
    "        password = input('\\nEnter the password to check for Validity: ')\n",
    "        check_password(password)\n",
    "    else:\n",
    "        print('\\nTHANK YOU FOR YOUR TIME!!!')\n",
    "        break\n",
    "\n",
    "    \n",
    "     \n",
    "\n",
    "\n",
    "\n",
    "        "
   ]
  },
  {
   "cell_type": "markdown",
   "id": "d54a3223",
   "metadata": {},
   "source": [
    "### Q2. Solve the below-given questions using at least one of the following:\n",
    "### 1. Lambda function\n",
    "### 2. Filter function\n",
    "### 3. Map function\n",
    "### 4. List Comprehension\n"
   ]
  },
  {
   "cell_type": "markdown",
   "id": "a0104f9f",
   "metadata": {},
   "source": [
    "**Q1 : Check if the string starts with a particular letter**"
   ]
  },
  {
   "cell_type": "code",
   "execution_count": 138,
   "id": "d016c1b8",
   "metadata": {},
   "outputs": [
    {
     "data": {
      "text/plain": [
       "True"
      ]
     },
     "execution_count": 138,
     "metadata": {},
     "output_type": "execute_result"
    }
   ],
   "source": [
    "# Using Lambda Function\n",
    "string = 'Dharmendra'\n",
    "a = lambda string : string.startswith('D')\n",
    "a(string)"
   ]
  },
  {
   "cell_type": "markdown",
   "id": "ab5255bf",
   "metadata": {},
   "source": [
    "**Q2 Check if the string is numeric**"
   ]
  },
  {
   "cell_type": "code",
   "execution_count": 139,
   "id": "320ac18c",
   "metadata": {},
   "outputs": [
    {
     "data": {
      "text/plain": [
       "False"
      ]
     },
     "execution_count": 139,
     "metadata": {},
     "output_type": "execute_result"
    }
   ],
   "source": [
    "# Using Lambda Function\n",
    "string = 'ddt1990.iitr@gmail.com'\n",
    "a = lambda string : string.isnumeric()\n",
    "a(string)"
   ]
  },
  {
   "cell_type": "markdown",
   "id": "1e62b7b9",
   "metadata": {},
   "source": [
    "**Q3 Sort a list of tuples having fruit names and their quantity. [(\"mango\",99),(\"orange\",80), (\"grapes\", 1000)]**"
   ]
  },
  {
   "cell_type": "code",
   "execution_count": 140,
   "id": "f70d13fe",
   "metadata": {},
   "outputs": [
    {
     "data": {
      "text/plain": [
       "[('grapes', 1000), ('mango', 99), ('orange', 80)]"
      ]
     },
     "execution_count": 140,
     "metadata": {},
     "output_type": "execute_result"
    }
   ],
   "source": [
    "# Using Lambda Function\n",
    "list1 =  [(\"mango\",99),(\"orange\",80), (\"grapes\", 1000)]\n",
    "sorted(list1,key= lambda x: x[1],reverse=True)"
   ]
  },
  {
   "cell_type": "markdown",
   "id": "e3ca8d96",
   "metadata": {},
   "source": [
    "**Q4: Find the squares of numbers from 1 to 10**"
   ]
  },
  {
   "cell_type": "code",
   "execution_count": 141,
   "id": "9d2dcf2e",
   "metadata": {},
   "outputs": [
    {
     "data": {
      "text/plain": [
       "[1, 4, 9, 16, 25, 36, 49, 64, 81, 100]"
      ]
     },
     "execution_count": 141,
     "metadata": {},
     "output_type": "execute_result"
    }
   ],
   "source": [
    "# Using List Comprehension\n",
    "[i**2 for i in range(1,11)]"
   ]
  },
  {
   "cell_type": "markdown",
   "id": "67333b67",
   "metadata": {},
   "source": [
    "**Q5: Find the cube root of numbers from 1 to 10**\n"
   ]
  },
  {
   "cell_type": "code",
   "execution_count": 142,
   "id": "f8fe7143",
   "metadata": {
    "scrolled": true
   },
   "outputs": [
    {
     "data": {
      "text/plain": [
       "[1.0,\n",
       " 1.2599210498948732,\n",
       " 1.4422495703074083,\n",
       " 1.5874010519681994,\n",
       " 1.7099759466766968,\n",
       " 1.8171205928321397,\n",
       " 1.912931182772389,\n",
       " 2.0,\n",
       " 2.080083823051904,\n",
       " 2.154434690031884]"
      ]
     },
     "execution_count": 142,
     "metadata": {},
     "output_type": "execute_result"
    }
   ],
   "source": [
    "# Using List Comprehension\n",
    "[x**(1/3) for x in range(1,11)]"
   ]
  },
  {
   "cell_type": "markdown",
   "id": "52850b10",
   "metadata": {},
   "source": [
    "**Q6: Check if a given number is even**"
   ]
  },
  {
   "cell_type": "code",
   "execution_count": 143,
   "id": "51cabfc1",
   "metadata": {},
   "outputs": [
    {
     "name": "stdout",
     "output_type": "stream",
     "text": [
      "Enter the num: 24\n",
      "24 is even\n"
     ]
    }
   ],
   "source": [
    "# Using Lambda Function\n",
    "num = int(input('Enter the num: '))\n",
    "a = lambda num : print('{} is even'.format(num)) if num%2 == 0 else print('{} is not even'.format(num))\n",
    "a(num)"
   ]
  },
  {
   "cell_type": "markdown",
   "id": "7659d7e4",
   "metadata": {},
   "source": [
    "**Q7: Filter odd numbers from the given list.\n",
    "[1,2,3,4,5,6,7,8,9,10]**"
   ]
  },
  {
   "cell_type": "code",
   "execution_count": 144,
   "id": "4a6fa1b7",
   "metadata": {},
   "outputs": [
    {
     "name": "stdout",
     "output_type": "stream",
     "text": [
      "[1, 3, 5, 7, 9]\n"
     ]
    }
   ],
   "source": [
    "#Using Filter and LAmbda Function\n",
    "list1 = [1,2,3,4,5,6,7,8,9,10]\n",
    "a = filter(lambda x : x if x%2!=0 else None , list1)\n",
    "print(list(a))"
   ]
  },
  {
   "cell_type": "markdown",
   "id": "140a5d91",
   "metadata": {},
   "source": [
    "**Q8: Sort a list of integers into positive and negative integers lists.\n",
    "[1,2,3,4,5,6,-1,-2,-3,-4,-5,0]**"
   ]
  },
  {
   "cell_type": "code",
   "execution_count": 145,
   "id": "02d6fac8",
   "metadata": {},
   "outputs": [],
   "source": [
    "#Using Filter and Lambda Function\n",
    "list1 = [1,2,3,4,5,6,-1,-2,-3,-4,-5,0]\n",
    "list_pos = list(filter(lambda x: x if x>=0 else None,list1))\n",
    "list_neg = list(filter(lambda x: x if x<=0 else None,list1))"
   ]
  },
  {
   "cell_type": "code",
   "execution_count": 146,
   "id": "17c2a6d4",
   "metadata": {
    "scrolled": true
   },
   "outputs": [
    {
     "name": "stdout",
     "output_type": "stream",
     "text": [
      "List of Positive integers [1, 2, 3, 4, 5, 6]\n",
      "list of Negative integers [-1, -2, -3, -4, -5]\n"
     ]
    }
   ],
   "source": [
    "print('List of Positive integers',list_pos)\n",
    "print('list of Negative integers',list_neg)"
   ]
  }
 ],
 "metadata": {
  "kernelspec": {
   "display_name": "Python 3",
   "language": "python",
   "name": "python3"
  }
 },
 "nbformat": 4,
 "nbformat_minor": 5
}
