{
 "cells": [
  {
   "cell_type": "markdown",
   "id": "21b27d6c",
   "metadata": {},
   "source": [
    "# ASSIGNMENT_13thFEB_2023_PWSKIILLS"
   ]
  },
  {
   "cell_type": "markdown",
   "id": "787b4904",
   "metadata": {},
   "source": [
    "## Q1. Explain why we have to use the Exception class while creating a Custom Exception.\n",
    "### Note: Here Exception class refers to the base class for all the exceptions.\n"
   ]
  },
  {
   "cell_type": "markdown",
   "id": "b71490f5",
   "metadata": {},
   "source": [
    "The Exception class is the base class for all built-in exceptions in Python. When you create a custom exception, you should inherit from the Exception class so that your custom exception is a subclass of the Exception class.\n",
    "\n",
    "Inheriting from the Exception class also makes it easier to catch specific types of exceptions in your code. For example, you could catch all exceptions that are subclasses of Exception using a single except block, or you could catch only specific types of exceptions by catching their corresponding custom exceptions.\n",
    "\n",
    "By inheriting from the Exception class, your custom exception will be able to take advantage of the behavior and functionality that is already built into the Exception class. This includes the ability to be raised and caught with a try/except block, and the ability to store and retrieve error messages associated with the exception."
   ]
  },
  {
   "cell_type": "markdown",
   "id": "91472622",
   "metadata": {},
   "source": [
    "## Q2. Write a python program to print Python Exception Hierarchy.\n"
   ]
  },
  {
   "cell_type": "code",
   "execution_count": 2,
   "id": "7f1e9a97",
   "metadata": {},
   "outputs": [
    {
     "name": "stdout",
     "output_type": "stream",
     "text": [
      "Hierarchy for Built-in exceptions is : \n",
      " Exception\n",
      "---- TypeError\n",
      "-------- MultipartConversionError\n",
      "-------- FloatOperation\n",
      "---- StopAsyncIteration\n",
      "---- StopIteration\n",
      "---- ImportError\n",
      "-------- ModuleNotFoundError\n",
      "-------- ZipImportError\n",
      "---- OSError\n",
      "-------- ConnectionError\n",
      "------------ BrokenPipeError\n",
      "------------ ConnectionAbortedError\n",
      "------------ ConnectionRefusedError\n",
      "------------ ConnectionResetError\n",
      "---------------- RemoteDisconnected\n",
      "-------- BlockingIOError\n",
      "-------- ChildProcessError\n",
      "-------- FileExistsError\n",
      "-------- FileNotFoundError\n",
      "-------- IsADirectoryError\n",
      "-------- NotADirectoryError\n",
      "-------- InterruptedError\n",
      "------------ InterruptedSystemCall\n",
      "-------- PermissionError\n",
      "-------- ProcessLookupError\n",
      "-------- TimeoutError\n",
      "-------- UnsupportedOperation\n",
      "-------- Error\n",
      "------------ SameFileError\n",
      "-------- SpecialFileError\n",
      "-------- ExecError\n",
      "-------- ReadError\n",
      "-------- herror\n",
      "-------- gaierror\n",
      "-------- timeout\n",
      "-------- SSLError\n",
      "------------ SSLCertVerificationError\n",
      "------------ SSLZeroReturnError\n",
      "------------ SSLWantReadError\n",
      "------------ SSLWantWriteError\n",
      "------------ SSLSyscallError\n",
      "------------ SSLEOFError\n",
      "-------- URLError\n",
      "------------ HTTPError\n",
      "------------ ContentTooShortError\n",
      "---- EOFError\n",
      "-------- IncompleteReadError\n",
      "---- RuntimeError\n",
      "-------- RecursionError\n",
      "-------- NotImplementedError\n",
      "------------ StdinNotImplementedError\n",
      "------------ ZMQVersionError\n",
      "-------- _DeadlockError\n",
      "-------- BrokenBarrierError\n",
      "-------- BrokenExecutor\n",
      "-------- SendfileNotAvailableError\n",
      "---- NameError\n",
      "-------- UnboundLocalError\n",
      "---- AttributeError\n",
      "---- SyntaxError\n",
      "-------- IndentationError\n",
      "------------ TabError\n",
      "---- LookupError\n",
      "-------- IndexError\n",
      "-------- KeyError\n",
      "------------ UnknownBackend\n",
      "------------ NoSuchKernel\n",
      "-------- CodecRegistryError\n",
      "---- ValueError\n",
      "-------- UnicodeError\n",
      "------------ UnicodeEncodeError\n",
      "------------ UnicodeDecodeError\n",
      "------------ UnicodeTranslateError\n",
      "-------- UnsupportedOperation\n",
      "-------- JSONDecodeError\n",
      "-------- Error\n",
      "-------- ClassNotFound\n",
      "-------- SSLCertVerificationError\n",
      "-------- ClipboardEmpty\n",
      "-------- MessageDefect\n",
      "------------ NoBoundaryInMultipartDefect\n",
      "------------ StartBoundaryNotFoundDefect\n",
      "------------ CloseBoundaryNotFoundDefect\n",
      "------------ FirstHeaderLineIsContinuationDefect\n",
      "------------ MisplacedEnvelopeHeaderDefect\n",
      "------------ MissingHeaderBodySeparatorDefect\n",
      "------------ MultipartInvariantViolationDefect\n",
      "------------ InvalidMultipartContentTransferEncodingDefect\n",
      "------------ UndecodableBytesDefect\n",
      "------------ InvalidBase64PaddingDefect\n",
      "------------ InvalidBase64CharactersDefect\n",
      "------------ InvalidBase64LengthDefect\n",
      "------------ HeaderDefect\n",
      "---------------- InvalidHeaderDefect\n",
      "---------------- HeaderMissingRequiredValue\n",
      "---------------- NonPrintableDefect\n",
      "---------------- ObsoleteHeaderDefect\n",
      "---------------- NonASCIILocalPartDefect\n",
      "-------- IllegalMonthError\n",
      "-------- IllegalWeekdayError\n",
      "-------- MacroToEdit\n",
      "-------- ParserError\n",
      "---- AssertionError\n",
      "---- ArithmeticError\n",
      "-------- FloatingPointError\n",
      "-------- OverflowError\n",
      "-------- ZeroDivisionError\n",
      "------------ DivisionByZero\n",
      "------------ DivisionUndefined\n",
      "-------- DecimalException\n",
      "------------ Clamped\n",
      "------------ Rounded\n",
      "---------------- Underflow\n",
      "---------------- Overflow\n",
      "------------ Inexact\n",
      "---------------- Underflow\n",
      "---------------- Overflow\n",
      "------------ Subnormal\n",
      "---------------- Underflow\n",
      "------------ DivisionByZero\n",
      "------------ FloatOperation\n",
      "------------ InvalidOperation\n",
      "---------------- ConversionSyntax\n",
      "---------------- DivisionImpossible\n",
      "---------------- DivisionUndefined\n",
      "---------------- InvalidContext\n",
      "---- SystemError\n",
      "-------- CodecRegistryError\n",
      "---- ReferenceError\n",
      "---- MemoryError\n",
      "---- BufferError\n",
      "---- Warning\n",
      "-------- UserWarning\n",
      "------------ GetPassWarning\n",
      "------------ FormatterWarning\n",
      "-------- DeprecationWarning\n",
      "------------ ProvisionalWarning\n",
      "-------- PendingDeprecationWarning\n",
      "-------- SyntaxWarning\n",
      "-------- RuntimeWarning\n",
      "------------ UnknownTimezoneWarning\n",
      "-------- FutureWarning\n",
      "------------ ProvisionalCompleterWarning\n",
      "-------- ImportWarning\n",
      "-------- UnicodeWarning\n",
      "-------- BytesWarning\n",
      "-------- ResourceWarning\n",
      "-------- DeprecatedTzFormatWarning\n",
      "---- Error\n",
      "---- _OptionError\n",
      "---- _Error\n",
      "---- error\n",
      "---- Verbose\n",
      "---- SubprocessError\n",
      "-------- CalledProcessError\n",
      "-------- TimeoutExpired\n",
      "---- Error\n",
      "---- TokenError\n",
      "---- StopTokenizing\n",
      "---- error\n",
      "---- LZMAError\n",
      "---- RegistryError\n",
      "---- _GiveupOnFastCopy\n",
      "---- EndOfBlock\n",
      "---- TraitError\n",
      "---- ArgumentError\n",
      "---- ArgumentTypeError\n",
      "---- ConfigError\n",
      "-------- ConfigLoaderError\n",
      "------------ ArgumentError\n",
      "-------- ConfigFileNotFound\n",
      "---- ConfigurableError\n",
      "-------- MultipleInstanceError\n",
      "---- ApplicationError\n",
      "---- ErrorDuringImport\n",
      "---- BdbQuit\n",
      "---- Restart\n",
      "---- COMError\n",
      "---- ArgumentError\n",
      "---- error\n",
      "---- FindCmdError\n",
      "---- HomeDirError\n",
      "---- ProfileDirError\n",
      "---- IPythonCoreError\n",
      "-------- TryNext\n",
      "-------- UsageError\n",
      "-------- StdinNotImplementedError\n",
      "---- InputRejected\n",
      "---- GetoptError\n",
      "---- Incomplete\n",
      "---- OptionError\n",
      "---- ErrorToken\n",
      "---- PickleError\n",
      "-------- PicklingError\n",
      "-------- UnpicklingError\n",
      "---- _Stop\n",
      "---- PrefilterError\n",
      "---- AliasError\n",
      "-------- InvalidAliasError\n",
      "---- Error\n",
      "-------- InterfaceError\n",
      "-------- DatabaseError\n",
      "------------ InternalError\n",
      "------------ OperationalError\n",
      "------------ ProgrammingError\n",
      "------------ IntegrityError\n",
      "------------ DataError\n",
      "------------ NotSupportedError\n",
      "---- Warning\n",
      "---- SpaceInInput\n",
      "---- Error\n",
      "-------- CancelledError\n",
      "-------- TimeoutError\n",
      "-------- InvalidStateError\n",
      "---- _GiveupOnSendfile\n",
      "---- TimeoutError\n",
      "---- InvalidStateError\n",
      "---- LimitOverrunError\n",
      "---- QueueEmpty\n",
      "---- QueueFull\n",
      "---- DOMException\n",
      "-------- IndexSizeErr\n",
      "-------- DomstringSizeErr\n",
      "-------- HierarchyRequestErr\n",
      "-------- WrongDocumentErr\n",
      "-------- InvalidCharacterErr\n",
      "-------- NoDataAllowedErr\n",
      "-------- NoModificationAllowedErr\n",
      "-------- NotFoundErr\n",
      "-------- NotSupportedErr\n",
      "-------- InuseAttributeErr\n",
      "-------- InvalidStateErr\n",
      "-------- SyntaxErr\n",
      "-------- InvalidModificationErr\n",
      "-------- NamespaceErr\n",
      "-------- InvalidAccessErr\n",
      "-------- ValidationErr\n",
      "---- ValidationError\n",
      "---- EditReadOnlyBuffer\n",
      "---- _Retry\n",
      "---- InvalidLayoutError\n",
      "---- HeightIsUnknownError\n",
      "---- Empty\n",
      "---- Full\n",
      "---- ParserSyntaxError\n",
      "---- InternalParseError\n",
      "---- _PositionUpdatingFinished\n",
      "---- SimpleGetItemNotFound\n",
      "---- UncaughtAttributeError\n",
      "---- ParamIssue\n",
      "---- OnErrorLeaf\n",
      "---- _JediError\n",
      "-------- InternalError\n",
      "-------- WrongVersion\n",
      "-------- RefactoringError\n",
      "---- InvalidPythonEnvironment\n",
      "---- MessageError\n",
      "-------- MessageParseError\n",
      "------------ HeaderParseError\n",
      "------------ BoundaryError\n",
      "-------- MultipartConversionError\n",
      "-------- CharsetError\n",
      "---- Error\n",
      "---- HTTPException\n",
      "-------- NotConnected\n",
      "-------- InvalidURL\n",
      "-------- UnknownProtocol\n",
      "-------- UnknownTransferEncoding\n",
      "-------- UnimplementedFileMode\n",
      "-------- IncompleteRead\n",
      "-------- ImproperConnectionState\n",
      "------------ CannotSendRequest\n",
      "------------ CannotSendHeader\n",
      "------------ ResponseNotReady\n",
      "-------- BadStatusLine\n",
      "------------ RemoteDisconnected\n",
      "-------- LineTooLong\n",
      "---- InteractivelyDefined\n",
      "---- KillEmbedded\n",
      "---- ZMQBaseError\n",
      "-------- ZMQError\n",
      "------------ ContextTerminated\n",
      "------------ Again\n",
      "------------ InterruptedSystemCall\n",
      "-------- ZMQBindError\n",
      "-------- NotDone\n",
      "---- NoIPAddresses\n",
      "---- InvalidPortNumber\n",
      "---- DuplicateKernelError\n",
      "---- TimeoutError\n",
      "---- ReturnValueIgnoredError\n",
      "---- KeyReuseError\n",
      "---- UnknownKeyError\n",
      "---- LeakedCallbackError\n",
      "---- BadYieldError\n",
      "---- ReturnValueIgnoredError\n",
      "---- Return\n",
      "---- QueueEmpty\n",
      "---- QueueFull\n",
      "---- error\n",
      "---- com_error\n"
     ]
    }
   ],
   "source": [
    "def tree(class1, indent = 0):\n",
    "    \n",
    "# print name of the class\n",
    "\n",
    "    print ('-' * indent, class1.__name__)\n",
    "      \n",
    "# iterating through subclasses\n",
    "\n",
    "    for i in class1.__subclasses__():\n",
    "        tree(i, indent + 4)\n",
    "  \n",
    "print(\"Hierarchy for Built-in exceptions is : \")\n",
    "  \n",
    "# calling the function\n",
    "tree(Exception)"
   ]
  },
  {
   "cell_type": "markdown",
   "id": "0190f555",
   "metadata": {},
   "source": [
    "## Q3. What errors are defined in the ArithmeticError class? Explain any two with an example.\n"
   ]
  },
  {
   "cell_type": "markdown",
   "id": "7ab156b2",
   "metadata": {},
   "source": [
    "The **ArithmeticError Exception** is the base class for all errors associated with **arithmetic operation.**\n",
    "\n",
    "ArithmeticError\n",
    "* --> ZeroDivisionError\n",
    "* --> OverflowError\n",
    "* --> FloatingPointError"
   ]
  },
  {
   "cell_type": "code",
   "execution_count": 4,
   "id": "de3da3bd",
   "metadata": {
    "scrolled": true
   },
   "outputs": [
    {
     "name": "stdout",
     "output_type": "stream",
     "text": [
      "division by zero <class 'ZeroDivisionError'>\n"
     ]
    }
   ],
   "source": [
    "# Example 1 : Zero Division Error\n",
    "\n",
    "a = 10\n",
    "b = 0\n",
    "try:\n",
    "    c= a/b\n",
    "    print(c)\n",
    "except ArithmeticError as e:\n",
    "    print(e,e.__class__)"
   ]
  },
  {
   "cell_type": "code",
   "execution_count": 1,
   "id": "fa546850",
   "metadata": {},
   "outputs": [
    {
     "name": "stdout",
     "output_type": "stream",
     "text": [
      "(34, 'Result too large'), <class 'OverflowError'>\n"
     ]
    }
   ],
   "source": [
    "j = 5.0\n",
    "\n",
    "try:\n",
    "    for i in range(1, 1000):\n",
    "        j = j**i\n",
    "except ArithmeticError as e:\n",
    "    print(f\"{e}, {e.__class__}\")"
   ]
  },
  {
   "cell_type": "markdown",
   "id": "1ba38afe",
   "metadata": {},
   "source": [
    "## Q4. Why LookupError class is used? Explain with an example KeyError and IndexError.\n"
   ]
  },
  {
   "cell_type": "markdown",
   "id": "0a405e79",
   "metadata": {},
   "source": [
    "The **LookupError** exception in Python forms the base class for all exceptions that are raised when an index or a key is not found for a sequence or dictionary respectively.\n",
    "\n",
    "LookupError\n",
    "\n",
    "* --> IndexError\n",
    "* --> KeyError"
   ]
  },
  {
   "cell_type": "code",
   "execution_count": 4,
   "id": "429ef862",
   "metadata": {},
   "outputs": [
    {
     "name": "stdout",
     "output_type": "stream",
     "text": [
      "list index out of range <class 'IndexError'>\n"
     ]
    }
   ],
   "source": [
    "# Example: Index Error\n",
    "\n",
    "list1 = [1,2,3,4]\n",
    "try :\n",
    "    print(list1[10])\n",
    "except LookupError as e:\n",
    "    print(e,e.__class__)"
   ]
  },
  {
   "cell_type": "code",
   "execution_count": 6,
   "id": "18ac5f80",
   "metadata": {},
   "outputs": [
    {
     "name": "stdout",
     "output_type": "stream",
     "text": [
      "'age' <class 'KeyError'>\n"
     ]
    }
   ],
   "source": [
    "# Example: Key Error\n",
    "\n",
    "dict_1 = {'name':'Dharmendra', 'class': 'pw_skills'}\n",
    "try :\n",
    "    print(dict_1['age'])\n",
    "except LookupError as e:\n",
    "    print(e,e.__class__)"
   ]
  },
  {
   "cell_type": "markdown",
   "id": "479d5d9e",
   "metadata": {},
   "source": [
    "## Q5. Explain ImportError. What is ModuleNotFoundError?\n"
   ]
  },
  {
   "cell_type": "markdown",
   "id": "58fd3126",
   "metadata": {},
   "source": [
    "**Import Error**: when we want to include the module contents in the program then we have to import these specific modules in the program. So to do this we use “import” keyword such as import statement with the module name. When writing this statement and the specified module is not written properly or the imported module is not found in the Python library then the Python interpreter throws an error known as ImportError.\n",
    "\n",
    "There are two conditions when the ImportError will be raised. They are\n",
    "\n",
    "* If the module does not exist.\n",
    "* If we are trying to import submodule from the module\n",
    "\n",
    "\n",
    "**ModuleNotFoundError:** This error occurs when you're trying to access or use a module that cannot be found.\n"
   ]
  },
  {
   "cell_type": "code",
   "execution_count": 9,
   "id": "6bb389fb",
   "metadata": {},
   "outputs": [
    {
     "name": "stdout",
     "output_type": "stream",
     "text": [
      "No module named 'numphy' <class 'ModuleNotFoundError'>\n"
     ]
    }
   ],
   "source": [
    "#Example:\n",
    "\n",
    "try:\n",
    "    import numphy # spelling mistake raise the import error  \n",
    "except ImportError as e:\n",
    "    print(e,e.__class__)"
   ]
  },
  {
   "cell_type": "markdown",
   "id": "3804c4f3",
   "metadata": {},
   "source": [
    "## Q6. List down some best practices for exception handling in python."
   ]
  },
  {
   "cell_type": "markdown",
   "id": "36d72959",
   "metadata": {},
   "source": [
    "* Only catch statements that may throw exceptions to avoid ambiguous catch logic\n",
    "\n",
    "* Keep the abstract consistency of the module exception class, and wrap the underlying exception class if necessary\n",
    "\n",
    "* Use Context Managers to simplify repetitive exception handling logic\n",
    "\n",
    "* Use Exceptions for Exceptional Cases\n",
    "\n",
    "* Don’t Swallow the Exception\n",
    "\n",
    "* Always Clean Up Resources in a Finally Block\n",
    "\n",
    "* Avoid Raising Generic Exceptions\n",
    "\n",
    "* Raise Custom Exceptions\n",
    "\n",
    "* Define Your Own Exception Hierarchy\n",
    "\n",
    "* Document All Exceptions Thrown by a Function\n",
    "\n",
    "* Provide Contextual Information When Raising an Exception\n",
    "\n",
    "* Write Tests to Ensure That Exceptions Are Raised Correctly"
   ]
  },
  {
   "cell_type": "markdown",
   "id": "69a4f056",
   "metadata": {},
   "source": []
  }
 ],
 "metadata": {
  "kernelspec": {
   "display_name": "Python 3",
   "language": "python",
   "name": "python3"
  },
  "language_info": {
   "codemirror_mode": {
    "name": "ipython",
    "version": 3
   },
   "file_extension": ".py",
   "mimetype": "text/x-python",
   "name": "python",
   "nbconvert_exporter": "python",
   "pygments_lexer": "ipython3",
   "version": "3.8.8"
  }
 },
 "nbformat": 4,
 "nbformat_minor": 5
}
