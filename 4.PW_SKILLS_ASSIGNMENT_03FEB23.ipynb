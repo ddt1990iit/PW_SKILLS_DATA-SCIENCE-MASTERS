{
 "cells": [
  {
   "cell_type": "markdown",
   "id": "146fbfc4",
   "metadata": {},
   "source": [
    "### Q1. Which keyword is used to create a function? Create a function to return a list of odd numbers in the range of 1 to 25.\n"
   ]
  },
  {
   "cell_type": "markdown",
   "id": "e819d5e5",
   "metadata": {},
   "source": [
    "Ans : **def** keyword is used to create a function."
   ]
  },
  {
   "cell_type": "code",
   "execution_count": 5,
   "id": "1adaf74c",
   "metadata": {},
   "outputs": [
    {
     "name": "stdout",
     "output_type": "stream",
     "text": [
      "The list of odd number in range of 1 to 25 \n",
      " [1, 3, 5, 7, 9, 11, 13, 15, 17, 19, 21, 23]\n"
     ]
    }
   ],
   "source": [
    "# Example : To return a list of odd number in range of 1 to 25\n",
    "# Definition of Function\n",
    "def odd_num():\n",
    "    list_odd=[]\n",
    "    for i in range(1,25):\n",
    "        if i % 2 == 0:\n",
    "            pass\n",
    "        else:\n",
    "            list_odd.append(i)\n",
    "    return list_odd\n",
    "# Calling of Function\n",
    "\n",
    "print('The list of odd number in range of 1 to 25 \\n',odd_num())\n",
    "    \n",
    "    "
   ]
  },
  {
   "cell_type": "markdown",
   "id": "d0599f33",
   "metadata": {},
   "source": [
    "### Q2. Why '*args' and '**kwargs' is used in some functions? Create a function each for *args and **kwargs to demonstrate their use.\n"
   ]
  },
  {
   "cell_type": "markdown",
   "id": "1021c4a5",
   "metadata": {},
   "source": [
    "Ans: \n",
    "\n",
    "**'*args'** : These are referred to as non-keyword argument that are passed to the during call of the function.*args allows the user to pass as many argument needed during the call of function.\n",
    "\n",
    "**'*kwargs'**: These are referred to as keyword argument.A keyword argument is where you provide a name to the variable as you pass it into the function."
   ]
  },
  {
   "cell_type": "code",
   "execution_count": 4,
   "id": "32f3fcd6",
   "metadata": {},
   "outputs": [
    {
     "name": "stdout",
     "output_type": "stream",
     "text": [
      "This the argument passed through args:  Dharmendra\n",
      "\n",
      "This is the argument through *args1 is: pwskills\n",
      "\n",
      "This is the argument through *args1 is: data science masters\n",
      "\n",
      "This is the argument through *args1 is: 1\n"
     ]
    }
   ],
   "source": [
    "# Example for *args\n",
    "# Definition of Function\n",
    "def func1(args,*args1):\n",
    "    print(\"This the argument passed through args: \",args)\n",
    "    for i in args1:\n",
    "        print('\\nThis is the argument through *args1 is: {}'.format(i))\n",
    "\n",
    "# calling of the function\n",
    "func1('Dharmendra','pwskills','data science masters',1)\n"
   ]
  },
  {
   "cell_type": "code",
   "execution_count": 13,
   "id": "9751efa8",
   "metadata": {},
   "outputs": [
    {
     "name": "stdout",
     "output_type": "stream",
     "text": [
      "This the argument through args:  Dharmendra\n",
      "This is the argument through **kwargs:  {'a': 'Dubey', 'b': 'Pwslills'}\n"
     ]
    }
   ],
   "source": [
    "# Example for **kwargs\n",
    "# Definition of function\n",
    "def func2(args,**kwargs):\n",
    "    print('This the argument through args: ',args)\n",
    "    print('This is the argument through **kwargs: ',kwargs)\n",
    "\n",
    "# Calling of the function\n",
    "func2('Dharmendra',a ='Dubey',b = 'Pwslills')\n",
    "\n"
   ]
  },
  {
   "cell_type": "markdown",
   "id": "6981103a",
   "metadata": {},
   "source": [
    "### Q3. What is an iterator in python? Name the method used to initialise the iterator object and the method used for iteration. Use these methods to print the first five elements of the given list [2, 4, 6, 8, 10, 12, 14, 16,18, 20].\n"
   ]
  },
  {
   "cell_type": "markdown",
   "id": "6d20d9b7",
   "metadata": {},
   "source": [
    "Ans: An **iterator** is the object that can be iterated upon.It is the object that contains countable number of values.\n",
    "\n",
    "The methods that are used to initialize the iterator and for iteration are mentioned below:\n",
    "\n",
    "* **1. iter() :** This is used to initialize the iterator.\n",
    "* **2. next() :** This is used for the iteration."
   ]
  },
  {
   "cell_type": "code",
   "execution_count": 18,
   "id": "976e88d0",
   "metadata": {},
   "outputs": [
    {
     "name": "stdout",
     "output_type": "stream",
     "text": [
      "2\n",
      "4\n",
      "6\n",
      "8\n",
      "10\n"
     ]
    }
   ],
   "source": [
    "# Code to print first five element of the given list\n",
    "\n",
    "list1 = [2,4,6,8,10,12,14,16,18,20]\n",
    "\n",
    "my_iter = iter(list1) # Initialization of Iterator\n",
    "for i in range(0,5):\n",
    "    print(next(my_iter)) # Printing the iterator with next()"
   ]
  },
  {
   "cell_type": "markdown",
   "id": "17ef8a52",
   "metadata": {},
   "source": [
    "### Q4. What is a generator function in python? Why yield keyword is used? Give an example of a generator function.\n"
   ]
  },
  {
   "cell_type": "markdown",
   "id": "6f20eaa4",
   "metadata": {},
   "source": [
    "Ans: In Python, a generator is a function that returns an iterator that produces a sequence of values when iterated over.\n",
    "Generators are useful when we want to produce a large sequence of values, but we don't want to store all of them in memory at once.\n",
    "\n",
    "**Why Yield Keyword**: The yield keyword is used to produce a value from the generator and pause the generator function's execution until the next value is requested."
   ]
  },
  {
   "cell_type": "code",
   "execution_count": 26,
   "id": "0763cc3e",
   "metadata": {},
   "outputs": [
    {
     "name": "stdout",
     "output_type": "stream",
     "text": [
      "1 1 2 3 5 8 13 21 34 55 "
     ]
    }
   ],
   "source": [
    "# Example: \n",
    "# Converting getfib() function into Generator Function using yield command\n",
    "\n",
    "def genfib(n):\n",
    "    a=1\n",
    "    b=1\n",
    "    for i in range(n):\n",
    "        yield (a)\n",
    "        a , b = b, a+b\n",
    "fib = genfib(10)\n",
    "for i in fib:\n",
    "    print(i,end=' ')"
   ]
  },
  {
   "cell_type": "markdown",
   "id": "cf83ee9a",
   "metadata": {},
   "source": [
    "### Q5. Create a generator function for prime numbers less than 1000. Use the next() method to print the first 20 prime numbers."
   ]
  },
  {
   "cell_type": "code",
   "execution_count": 27,
   "id": "a7229e93",
   "metadata": {},
   "outputs": [
    {
     "name": "stdout",
     "output_type": "stream",
     "text": [
      "1\n",
      "3\n",
      "5\n",
      "7\n",
      "9\n",
      "11\n",
      "13\n",
      "15\n",
      "17\n",
      "19\n",
      "21\n",
      "23\n",
      "25\n",
      "27\n",
      "29\n",
      "31\n",
      "33\n",
      "35\n",
      "37\n",
      "39\n"
     ]
    }
   ],
   "source": [
    "# Generator Function for Prime Number\n",
    "def prime_num(num):\n",
    "    list_prime = []\n",
    "    for i in range(1,num+1):\n",
    "        # Code to check for prime number if number is 1\n",
    "        if i == 1: \n",
    "            yield i\n",
    "        # Check for prime number if nummber is greater than 1\n",
    "        else:\n",
    "            for j in range(2,i):\n",
    "                if i%j == 0:\n",
    "                    break\n",
    "                else:\n",
    "                    yield i # Creating a generator output and executed if it is asked through iterator\n",
    "                    break                                   \n",
    "        \n",
    "my_iter = iter(prime_num(1000))\n",
    "\n",
    "for i in range(0,20):\n",
    "    print(next(my_iter))\n"
   ]
  },
  {
   "cell_type": "code",
   "execution_count": null,
   "id": "41ebc2d4",
   "metadata": {},
   "outputs": [],
   "source": []
  }
 ],
 "metadata": {
  "kernelspec": {
   "display_name": "Python 3",
   "language": "python",
   "name": "python3"
  },
  "language_info": {
   "codemirror_mode": {
    "name": "ipython",
    "version": 3
   },
   "file_extension": ".py",
   "mimetype": "text/x-python",
   "name": "python",
   "nbconvert_exporter": "python",
   "pygments_lexer": "ipython3",
   "version": "3.8.8"
  }
 },
 "nbformat": 4,
 "nbformat_minor": 5
}
