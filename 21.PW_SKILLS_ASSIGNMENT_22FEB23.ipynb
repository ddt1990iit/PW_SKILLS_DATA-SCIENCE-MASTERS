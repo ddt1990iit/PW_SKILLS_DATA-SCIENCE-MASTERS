{
 "cells": [
  {
   "cell_type": "markdown",
   "id": "57d69182",
   "metadata": {},
   "source": [
    "# ASSIGNMENT_22thFEB_2023_PWSKIILLS"
   ]
  },
  {
   "cell_type": "markdown",
   "id": "ff625979",
   "metadata": {},
   "source": [
    "## Go to this given URL and solve the following questions\n",
    "## URL: https://www.youtube.com/@PW-Foundation/videos\n",
    "\n",
    "#### Note: Save all the data scraped in the above questions in a CSV file."
   ]
  },
  {
   "cell_type": "markdown",
   "id": "e665a51a",
   "metadata": {},
   "source": [
    "## I am using Selenium library to solve the above problem"
   ]
  },
  {
   "cell_type": "markdown",
   "id": "b3ffdb16",
   "metadata": {},
   "source": [
    "## Q1. Write a python program to extract the video URL of the first five videos."
   ]
  },
  {
   "cell_type": "code",
   "execution_count": 23,
   "id": "cb462a4c",
   "metadata": {
    "scrolled": true
   },
   "outputs": [
    {
     "name": "stdout",
     "output_type": "stream",
     "text": [
      "https://www.youtube.com/watch?v=PI1obes98Zc\n",
      "https://www.youtube.com/watch?v=16fUsD0M1-I\n",
      "https://www.youtube.com/watch?v=S0RySN5arvk\n",
      "https://www.youtube.com/watch?v=HzBhwxMrt8A\n",
      "https://www.youtube.com/watch?v=60_B3haKADw\n"
     ]
    }
   ],
   "source": [
    "# importing selenium library\n",
    "\n",
    "from selenium import webdriver\n",
    "from selenium.webdriver.common.by import By  # This library is used to find element of different category\n",
    "driver = webdriver.Chrome()\n",
    "url = 'https://www.youtube.com/@PW-Foundation/videos'\n",
    "\n",
    "\n",
    "driver.get(url) # Opening the url in chrome browser\n",
    "videos = driver.find_elements(By.XPATH,\"//a[@id='video-title-link']\")  # Finding the element through inspect element \n",
    "videos_5 = videos[0:5]  # Selecting the top five videos \n",
    "top_videos_url = []\n",
    "for video in videos_5:\n",
    "    top_videos_url.append(video.get_attribute('href'))   # Finding the url link through href \n",
    "    \n",
    "for i in range(0,5):\n",
    "    print(top_videos_url[i])\n",
    "\n",
    "\n",
    "   "
   ]
  },
  {
   "cell_type": "markdown",
   "id": "a3ec80d3",
   "metadata": {},
   "source": [
    "## Q2. Write a python program to extract the URL of the video thumbnails of the first five videos.\n",
    "\n"
   ]
  },
  {
   "cell_type": "code",
   "execution_count": 5,
   "id": "9b7507fb",
   "metadata": {},
   "outputs": [
    {
     "name": "stdout",
     "output_type": "stream",
     "text": [
      "https://i.ytimg.com/vi/PI1obes98Zc/hqdefault.jpg?sqp=-oaymwEcCNACELwBSFXyq4qpAw4IARUAAIhCGAFwAcABBg==&rs=AOn4CLDyWGBtPVQCXcUM1DiCpOeszoKAsQ\n",
      "https://i.ytimg.com/vi/16fUsD0M1-I/hqdefault.jpg?sqp=-oaymwEcCNACELwBSFXyq4qpAw4IARUAAIhCGAFwAcABBg==&rs=AOn4CLByRUwFQYHPXlsq0XinNUla0MZtNw\n",
      "https://i.ytimg.com/vi/S0RySN5arvk/hqdefault.jpg?sqp=-oaymwEcCNACELwBSFXyq4qpAw4IARUAAIhCGAFwAcABBg==&rs=AOn4CLBOhnoOmjXFZyCKcKSm5Q-ZERlrZQ\n",
      "https://i.ytimg.com/vi/HzBhwxMrt8A/hqdefault.jpg?sqp=-oaymwEcCNACELwBSFXyq4qpAw4IARUAAIhCGAFwAcABBg==&rs=AOn4CLDxv8xtxXYKf6Zn58zMFt2mqVTTZw\n",
      "https://i.ytimg.com/vi/60_B3haKADw/hqdefault.jpg?sqp=-oaymwEcCNACELwBSFXyq4qpAw4IARUAAIhCGAFwAcABBg==&rs=AOn4CLA9baY1YtDSZafi5-Ej4K4ehDrL_A\n"
     ]
    }
   ],
   "source": [
    "from selenium import webdriver\n",
    "from selenium.webdriver.common.by import By\n",
    "import time\n",
    "\n",
    "options = webdriver.ChromeOptions()\n",
    "\n",
    "options.add_argument(\"--window-size=1920,1080\")  \n",
    "\n",
    "\n",
    "driver = webdriver.Chrome(options=options)\n",
    "\n",
    "driver.get(url)\n",
    "time.sleep(30)\n",
    "thumbnails = driver.find_elements(By.TAG_NAME,'img')\n",
    "thumbnail_5 = []\n",
    "for i in thumbnails:    \n",
    "    thumbnail_link = i.get_attribute('src')\n",
    "    if str(thumbnail_link).find('i.ytimg.com')>0:\n",
    "        thumbnail_5.append(thumbnail_link)    \n",
    "\n",
    "for j in range(0,5):\n",
    "    print(thumbnail_5[j])\n",
    "\n"
   ]
  },
  {
   "cell_type": "markdown",
   "id": "2d9b00b8",
   "metadata": {},
   "source": [
    "## Q3. Write a python program to extract the title of the first five videos.\n"
   ]
  },
  {
   "cell_type": "code",
   "execution_count": 6,
   "id": "ae44d598",
   "metadata": {},
   "outputs": [
    {
     "name": "stdout",
     "output_type": "stream",
     "text": [
      "How to score 95%+ in class 10th? Complete year Powerful Strategy!! \n",
      "\n",
      "Last 4 Days Left For SST Exam || How To Manage to Score 80/80 in Boards || Class-10th \n",
      "\n",
      "Benefits of Choosing Commerce After 10th | Commerce क्यों लेना चाहिए? | CBSE | ICSE | State Boards \n",
      "\n",
      "Complete 𝗖𝗔𝗥𝗕𝗢𝗡 𝗔𝗡𝗗 𝗜𝗧𝗦 𝗖𝗢𝗠𝗣𝗢𝗨𝗡𝗗𝗦 in 90 Minutes | Class 10th Board Exam \n",
      "\n",
      "Complete 𝗠𝗘𝗧𝗔𝗟𝗦 & 𝗡𝗢𝗡 𝗠𝗘𝗧𝗔𝗟𝗦  in 120 Minutes | Class 10th Board Exam \n",
      "\n"
     ]
    }
   ],
   "source": [
    "from selenium import webdriver\n",
    "from selenium.webdriver.common.by import By\n",
    "import time\n",
    "\n",
    "options = webdriver.ChromeOptions()\n",
    "\n",
    "options.add_argument(\"--window-size=1920,1080\")  \n",
    "\n",
    "driver = webdriver.Chrome(options=options)\n",
    "\n",
    "driver.get(url)\n",
    "\n",
    "titles = driver.find_elements(By.XPATH,\"//a[@id='video-title-link']\") \n",
    "\n",
    "titles_5 = titles[0:5]\n",
    "top_videos_titles = []\n",
    "for title in titles_5:\n",
    "    top_videos_titles.append(title.get_attribute('title'))   \n",
    "    \n",
    "for i in range(0,5):\n",
    "    print(top_videos_titles[i],'\\n')\n",
    "\n",
    "\n"
   ]
  },
  {
   "cell_type": "markdown",
   "id": "369874d3",
   "metadata": {},
   "source": [
    "## Q4. Write a python program to extract the number of views of the first five videos.\n"
   ]
  },
  {
   "cell_type": "code",
   "execution_count": 14,
   "id": "17b12c3b",
   "metadata": {},
   "outputs": [
    {
     "name": "stdout",
     "output_type": "stream",
     "text": [
      "['169K views', '68K views', '27K views', '42K views', '23K views']\n"
     ]
    }
   ],
   "source": [
    "from selenium import webdriver\n",
    "from selenium.webdriver.common.by import By\n",
    "import time\n",
    "\n",
    "options = webdriver.ChromeOptions()\n",
    "\n",
    "options.add_argument(\"--window-size=1920,1080\")  \n",
    "\n",
    "\n",
    "driver = webdriver.Chrome(options=options)\n",
    "\n",
    "driver.get(url)\n",
    "\n",
    "views = driver.find_elements(By.XPATH,\"//*[@id='metadata-line']/span[1]\")\n",
    "total_views = []\n",
    "for view in views:  \n",
    "    string = view.text      \n",
    "    if string.find('views')>0:      \n",
    "        total_views.append(string)\n",
    "\n",
    "print(total_views[0:5])\n",
    "\n",
    "    \n"
   ]
  },
  {
   "cell_type": "markdown",
   "id": "550613d0",
   "metadata": {},
   "source": [
    "## Q5. Write a python program to extract the time of posting of video for the first five videos."
   ]
  },
  {
   "cell_type": "code",
   "execution_count": 15,
   "id": "23daa086",
   "metadata": {},
   "outputs": [
    {
     "name": "stdout",
     "output_type": "stream",
     "text": [
      "['9 days ago', '9 days ago', '13 days ago', '2 weeks ago', '2 weeks ago']\n"
     ]
    }
   ],
   "source": [
    "from selenium import webdriver\n",
    "from selenium.webdriver.common.by import By\n",
    "import time\n",
    "\n",
    "options = webdriver.ChromeOptions()\n",
    "\n",
    "options.add_argument(\"--window-size=1920,1080\")  \n",
    "\n",
    "\n",
    "driver = webdriver.Chrome(options=options)\n",
    "\n",
    "driver.get(url)\n",
    "\n",
    "posted = driver.find_elements(By.XPATH,\"//*[@id='metadata-line']/span[2]\")\n",
    "posted_day = []\n",
    "for post in posted:  \n",
    "    string = post.text      \n",
    "    if string.find('ago')>0:      \n",
    "        posted_day.append(string)\n",
    "\n",
    "print(posted_day[0:5])"
   ]
  },
  {
   "cell_type": "markdown",
   "id": "bdbb1a1e",
   "metadata": {},
   "source": [
    "## Save all the data scraped in the above questions in a CSV file\n",
    "\n"
   ]
  },
  {
   "cell_type": "code",
   "execution_count": 17,
   "id": "a02e305b",
   "metadata": {},
   "outputs": [],
   "source": [
    "# Saving all the scapped data into the form of dictionary \n",
    "\n",
    "scrapped_data = {'url_info':top_videos_url[0:5],\n",
    "                'thumbnail_info' : thumbnail_5[0:5],\n",
    "                'title_info': top_videos_titles[0:5],\n",
    "                'views info' : total_views[0:5],\n",
    "                'posted' : posted_day[0:5] }"
   ]
  },
  {
   "cell_type": "code",
   "execution_count": 21,
   "id": "363034c5",
   "metadata": {},
   "outputs": [
    {
     "data": {
      "text/html": [
       "<div>\n",
       "<style scoped>\n",
       "    .dataframe tbody tr th:only-of-type {\n",
       "        vertical-align: middle;\n",
       "    }\n",
       "\n",
       "    .dataframe tbody tr th {\n",
       "        vertical-align: top;\n",
       "    }\n",
       "\n",
       "    .dataframe thead th {\n",
       "        text-align: right;\n",
       "    }\n",
       "</style>\n",
       "<table border=\"1\" class=\"dataframe\">\n",
       "  <thead>\n",
       "    <tr style=\"text-align: right;\">\n",
       "      <th></th>\n",
       "      <th>url_info</th>\n",
       "      <th>thumbnail_info</th>\n",
       "      <th>title_info</th>\n",
       "      <th>views info</th>\n",
       "      <th>posted</th>\n",
       "    </tr>\n",
       "  </thead>\n",
       "  <tbody>\n",
       "    <tr>\n",
       "      <th>0</th>\n",
       "      <td>https://www.youtube.com/watch?v=PI1obes98Zc</td>\n",
       "      <td>https://i.ytimg.com/vi/PI1obes98Zc/hqdefault.j...</td>\n",
       "      <td>How to score 95%+ in class 10th? Complete year...</td>\n",
       "      <td>169K views</td>\n",
       "      <td>9 days ago</td>\n",
       "    </tr>\n",
       "    <tr>\n",
       "      <th>1</th>\n",
       "      <td>https://www.youtube.com/watch?v=16fUsD0M1-I</td>\n",
       "      <td>https://i.ytimg.com/vi/16fUsD0M1-I/hqdefault.j...</td>\n",
       "      <td>Last 4 Days Left For SST Exam || How To Manage...</td>\n",
       "      <td>68K views</td>\n",
       "      <td>9 days ago</td>\n",
       "    </tr>\n",
       "    <tr>\n",
       "      <th>2</th>\n",
       "      <td>https://www.youtube.com/watch?v=S0RySN5arvk</td>\n",
       "      <td>https://i.ytimg.com/vi/S0RySN5arvk/hqdefault.j...</td>\n",
       "      <td>Benefits of Choosing Commerce After 10th | Com...</td>\n",
       "      <td>27K views</td>\n",
       "      <td>13 days ago</td>\n",
       "    </tr>\n",
       "    <tr>\n",
       "      <th>3</th>\n",
       "      <td>https://www.youtube.com/watch?v=HzBhwxMrt8A</td>\n",
       "      <td>https://i.ytimg.com/vi/HzBhwxMrt8A/hqdefault.j...</td>\n",
       "      <td>Complete 𝗖𝗔𝗥𝗕𝗢𝗡 𝗔𝗡𝗗 𝗜𝗧𝗦 𝗖𝗢𝗠𝗣𝗢𝗨𝗡𝗗𝗦 in 90 Minute...</td>\n",
       "      <td>42K views</td>\n",
       "      <td>2 weeks ago</td>\n",
       "    </tr>\n",
       "    <tr>\n",
       "      <th>4</th>\n",
       "      <td>https://www.youtube.com/watch?v=60_B3haKADw</td>\n",
       "      <td>https://i.ytimg.com/vi/60_B3haKADw/hqdefault.j...</td>\n",
       "      <td>Complete 𝗠𝗘𝗧𝗔𝗟𝗦 &amp; 𝗡𝗢𝗡 𝗠𝗘𝗧𝗔𝗟𝗦  in 120 Minutes |...</td>\n",
       "      <td>23K views</td>\n",
       "      <td>2 weeks ago</td>\n",
       "    </tr>\n",
       "  </tbody>\n",
       "</table>\n",
       "</div>"
      ],
      "text/plain": [
       "                                      url_info  ...       posted\n",
       "0  https://www.youtube.com/watch?v=PI1obes98Zc  ...   9 days ago\n",
       "1  https://www.youtube.com/watch?v=16fUsD0M1-I  ...   9 days ago\n",
       "2  https://www.youtube.com/watch?v=S0RySN5arvk  ...  13 days ago\n",
       "3  https://www.youtube.com/watch?v=HzBhwxMrt8A  ...  2 weeks ago\n",
       "4  https://www.youtube.com/watch?v=60_B3haKADw  ...  2 weeks ago\n",
       "\n",
       "[5 rows x 5 columns]"
      ]
     },
     "metadata": {},
     "output_type": "display_data"
    }
   ],
   "source": [
    "# Saving all the dictionary data into the dataframe\n",
    "\n",
    "import pandas as pd\n",
    "\n",
    "scrapped_df = pd.DataFrame(scrapped_data)\n",
    "\n",
    "display(scrapped_df)\n"
   ]
  },
  {
   "cell_type": "code",
   "execution_count": 22,
   "id": "92a42140",
   "metadata": {},
   "outputs": [],
   "source": [
    "# Saving the dataframe into csv file \n",
    "\n",
    "scrapped_df.to_csv('Youtubedata.csv')\n"
   ]
  },
  {
   "cell_type": "markdown",
   "id": "62c67800",
   "metadata": {},
   "source": [
    "CSV LINK : https://github.com/ddt1990iit/PW_SKILLS_DATA-SCIENCE-MASTERS/blob/main/Youtubedata.csv"
   ]
  },
  {
   "cell_type": "code",
   "execution_count": null,
   "id": "4b2866cd",
   "metadata": {},
   "outputs": [],
   "source": []
  }
 ],
 "metadata": {
  "kernelspec": {
   "display_name": "Python 3",
   "language": "python",
   "name": "python3"
  },
  "language_info": {
   "codemirror_mode": {
    "name": "ipython",
    "version": 3
   },
   "file_extension": ".py",
   "mimetype": "text/x-python",
   "name": "python",
   "nbconvert_exporter": "python",
   "pygments_lexer": "ipython3",
   "version": "3.8.8"
  }
 },
 "nbformat": 4,
 "nbformat_minor": 5
}
