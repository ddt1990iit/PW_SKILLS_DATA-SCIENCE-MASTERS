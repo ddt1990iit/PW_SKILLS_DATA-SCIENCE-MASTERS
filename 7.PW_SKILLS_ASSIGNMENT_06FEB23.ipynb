{
 "cells": [
  {
   "cell_type": "markdown",
   "id": "33b1b6d5",
   "metadata": {},
   "source": [
    "# ASSIGNMENT_06thFEB_2023_PWSKIILLS"
   ]
  },
  {
   "cell_type": "markdown",
   "id": "b54bc53e",
   "metadata": {},
   "source": [
    "### Q1. Create a function which will take a list as an argument and return the product of all the numbers\n",
    "### after creating a flat list.\n",
    "### Use the below-given list as an argument for your function.\n",
    "### list1 = [1,2,3,4, [44,55,66, True], False, (34,56,78,89,34), {1,2,3,3,2,1}, {1:34, \"key2\": [55, 67, 78, 89], 4: (45,\n",
    "### 22, 61, 34)}, [56, 'data science'], 'Machine Learning']\n",
    "### Note: you must extract numeric keys and values of the dictionary also."
   ]
  },
  {
   "cell_type": "code",
   "execution_count": 81,
   "id": "fe5792b4",
   "metadata": {},
   "outputs": [
    {
     "name": "stdout",
     "output_type": "stream",
     "text": [
      "\n",
      "The list after flattening and extracting the integer Value is [1, 2, 3, 4, 44, 55, 66, 34, 56, 78, 89, 34, 1, 4, 34, 55, 67, 78, 89, 45, 22, 61, 34, 56]\n",
      "\n",
      "The product of the element of the List after Flattening and Extracting Integers is : 689118639831180913138973540352000\n"
     ]
    }
   ],
   "source": [
    "\"Flattening of Given List and Extracting Integer Values\"\n",
    "\n",
    "def flat_list(list1):\n",
    "    \n",
    "    list2 = []\n",
    "\n",
    "    # Code to Extract the Integer Value only from the Given List\n",
    "    for i in list1:\n",
    "        if type(i) == int:\n",
    "            list2.append(i)\n",
    "\n",
    "    # Code to extract the integer values from List in Given List\n",
    "        elif type(i) == list:\n",
    "            for j in range(len(i)):\n",
    "                if type(i[j]) == int:\n",
    "                    list2.append(i[j])\n",
    "                else:\n",
    "                    pass\n",
    "\n",
    "    # Code to extract the integer values from Tuple in Given List            \n",
    "        elif type(i) == tuple:\n",
    "            for k in range(len(i)):\n",
    "                if type(i[k]) == int:\n",
    "                    list2.append(i[k])\n",
    "                else:\n",
    "                    pass\n",
    "\n",
    "    # Code to extract the integer values from Dictionary in Given List            \n",
    "        elif type(i) == dict:\n",
    "            for l in i.keys():\n",
    "                if type(l) == int:\n",
    "                    list2.append(l)\n",
    "            for m in i.values():\n",
    "                if type(m) == int:\n",
    "                    list2.append(m)\n",
    "            for n in i.values():\n",
    "                if type(n) == list:\n",
    "                    for o in range(len(n)):\n",
    "                        if type(n[o])==int:\n",
    "                            list2.append(n[o])\n",
    "\n",
    "                elif type(n) == tuple:\n",
    "                    for p in range(len(n)):\n",
    "                        if type(n[p])==int:\n",
    "                            list2.append(n[p])\n",
    "\n",
    "        else:\n",
    "            pass\n",
    "        \n",
    "    # Code to Calculate the Product of integer extacted from the given list   \n",
    "    \n",
    "    product = 1\n",
    "    for num in list2:\n",
    "        product = product * num\n",
    "    print('\\nThe list after flattening and extracting the integer Value is {}'.format(list2))\n",
    "    \n",
    "    print('\\nThe product of the element of the List after Flattening and Extracting Integers is :',product)\n",
    "    \n",
    "    \n",
    "list1 = [1,2,3,4, [44,55,66, True], False, (34,56,78,89,34), {1,2,3,3,2,1}, {1:34, \"key2\": [55, 67, 78, 89], 4: (45,\n",
    "22, 61, 34)}, [56, 'data science'], 'Machine Learning']\n",
    "    \n",
    "flat_list(list1) # Calling of the function with list1 as argument\n",
    "    \n",
    "        \n",
    "            \n",
    "\n"
   ]
  },
  {
   "cell_type": "markdown",
   "id": "4c8baf34",
   "metadata": {},
   "source": [
    "### Q2. Write a python program for encrypting a message sent to you by your friend. The logic of encryption should be such that, for a the output should be z. For b, the output should be y. For c, the output should be x respectively. Also, the whitespace should be replaced with a dollar sign. Keep the punctuation marks unchanged.\n",
    "### Input Sentence: I want to become a Data Scientist.\n",
    "### Encrypt the above input sentence using the program you just created.\n",
    "### Note: Convert the given input sentence into lowercase before encrypting. The final output should be lowercase."
   ]
  },
  {
   "cell_type": "code",
   "execution_count": 140,
   "id": "29877c63",
   "metadata": {},
   "outputs": [
    {
     "name": "stdout",
     "output_type": "stream",
     "text": [
      "\n",
      "The encrypted sentance for the given input string is:  i$wznt$to$yexome$z$dztz$sxientist.\n"
     ]
    }
   ],
   "source": [
    "# Function to encrypt the input sentance\n",
    "def encrypt(string):\n",
    "    encryted_dict = {'a' : 'z','b':'y','c': 'x',' ':'$'}\n",
    "    # Looping through the string and replacing it with the key value pairs\n",
    "    for i in encryted_dict:\n",
    "        string = string.replace(i,encryted_dict[i])\n",
    "    return string\n",
    "\n",
    "\n",
    "                      \n",
    "input = 'I want to become a Data Scientist.'\n",
    "\n",
    "input_sentance = input.lower() # Code to convert the input sentance into lower case befor passing to the function\n",
    "\n",
    "output= encrypt(input_sentance) # Calling of the Function\n",
    "\n",
    "print('\\nThe encrypted sentance for the given input string is: ',output)\n",
    "    \n",
    "    "
   ]
  },
  {
   "cell_type": "code",
   "execution_count": null,
   "id": "6a20dc49",
   "metadata": {},
   "outputs": [],
   "source": []
  }
 ],
 "metadata": {
  "kernelspec": {
   "display_name": "Python 3",
   "language": "python",
   "name": "python3"
  },
  "language_info": {
   "codemirror_mode": {
    "name": "ipython",
    "version": 3
   },
   "file_extension": ".py",
   "mimetype": "text/x-python",
   "name": "python",
   "nbconvert_exporter": "python",
   "pygments_lexer": "ipython3",
   "version": "3.8.8"
  }
 },
 "nbformat": 4,
 "nbformat_minor": 5
}
