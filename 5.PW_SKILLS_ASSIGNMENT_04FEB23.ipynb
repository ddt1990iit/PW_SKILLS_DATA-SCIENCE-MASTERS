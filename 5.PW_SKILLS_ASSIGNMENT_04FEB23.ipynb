{
 "cells": [
  {
   "cell_type": "markdown",
   "id": "1e5e4dbc",
   "metadata": {},
   "source": [
    "# ASSIGNMENT_04thFEB_2023_PWSKIILLS"
   ]
  },
  {
   "cell_type": "markdown",
   "id": "4043f652",
   "metadata": {},
   "source": [
    "### Q1. Create a python program to sort the given list of tuples based on integer value using a lambda function. [('Sachin Tendulkar', 34357), ('Ricky Ponting', 27483), ('Jack Kallis', 25534), ('Virat Kohli', 24936)]\n"
   ]
  },
  {
   "cell_type": "code",
   "execution_count": 86,
   "id": "b80146a4",
   "metadata": {},
   "outputs": [
    {
     "name": "stdout",
     "output_type": "stream",
     "text": [
      "[('Sachin Tendulkar', 34357), ('Ricky Ponting', 27483), ('Jack Kallis', 25534), ('Virat Kohli', 24936)]\n"
     ]
    }
   ],
   "source": [
    "player_score = [('Sachin Tendulkar', 34357), ('Ricky Ponting', 27483), ('Jack Kallis', 25534), ('Virat Kohli', 24936)]\n",
    "\n",
    "# Code to sort the list using in built sorted() and anonymous lamda\n",
    "\n",
    "player_score1 = sorted(player_score, key = lambda x: x[1],reverse= True)\n",
    "print(player_score1)\n"
   ]
  },
  {
   "cell_type": "markdown",
   "id": "9f1b9d89",
   "metadata": {},
   "source": [
    "### Q2. Write a Python Program to find the squares of all the numbers in the given list of integers using lambda and map functions.[1, 2, 3, 4, 5, 6, 7, 8, 9, 10]\n"
   ]
  },
  {
   "cell_type": "code",
   "execution_count": 87,
   "id": "7d03d9a9",
   "metadata": {},
   "outputs": [
    {
     "name": "stdout",
     "output_type": "stream",
     "text": [
      "[1, 4, 9, 16, 25, 36, 49, 64, 81, 100]\n"
     ]
    }
   ],
   "source": [
    "#Using Map and lamda function\n",
    "\n",
    "list1= [1, 2, 3, 4, 5, 6, 7, 8, 9, 10]\n",
    "list_sqr = list(map(lambda x : x**2,list1)) # list storing the value of squares\n",
    "print(list_sqr)"
   ]
  },
  {
   "cell_type": "markdown",
   "id": "a7c31dcd",
   "metadata": {},
   "source": [
    "### Q3. Write a python program to convert the given list of integers into a tuple of strings. Use map and lambda functions \n",
    "### Given String: [1, 2, 3, 4, 5, 6, 7, 8, 9, 10]\n",
    "### Expected output: ('1', '2', '3', '4', '5', '6', '7', '8', '9', '10')\n"
   ]
  },
  {
   "cell_type": "code",
   "execution_count": 88,
   "id": "2c74c6ef",
   "metadata": {},
   "outputs": [
    {
     "name": "stdout",
     "output_type": "stream",
     "text": [
      "('1', '2', '3', '4', '5', '6', '7', '8', '9', '10')\n"
     ]
    }
   ],
   "source": [
    "list1 = [1, 2, 3, 4, 5, 6, 7, 8, 9, 10]\n",
    "\n",
    "list_str = tuple(map(lambda x:str(x),list1))\n",
    "\n",
    "print(list_str)"
   ]
  },
  {
   "cell_type": "markdown",
   "id": "079e4075",
   "metadata": {},
   "source": [
    "### Q4. Write a python program using reduce function to compute the product of a list containing numbers from 1 to 25.\n"
   ]
  },
  {
   "cell_type": "code",
   "execution_count": 89,
   "id": "1c81dbd7",
   "metadata": {},
   "outputs": [
    {
     "name": "stdout",
     "output_type": "stream",
     "text": [
      "The list containing the numbers from 1 to 25 is \n",
      "[1, 2, 3, 4, 5, 6, 7, 8, 9, 10, 11, 12, 13, 14, 15, 16, 17, 18, 19, 20, 21, 22, 23, 24, 25]\n",
      "\n",
      "The product of the list containing numbers from 1 to 25 is : 15511210043330985984000000\n"
     ]
    }
   ],
   "source": [
    "from functools import reduce # Library to use reduce function\n",
    "\n",
    "def prod(a,b):\n",
    "    product = a*b\n",
    "    return product\n",
    "\n",
    "list2 = []\n",
    "for i in range(1,26):\n",
    "    list2.append(i)\n",
    "    \n",
    "print('The list containing the numbers from 1 to 25 is \\n{}'.format(list2))\n",
    "\n",
    "product1 = reduce(prod,list2) # Reduce function used to call the function and list\n",
    "\n",
    "print('\\nThe product of the list containing numbers from 1 to 25 is : {}'.format(product1))\n",
    "        \n"
   ]
  },
  {
   "cell_type": "markdown",
   "id": "96bb934b",
   "metadata": {},
   "source": [
    "#### Q5. Write a python program to filter the numbers in a given list that are divisible by 2 and 3 using the filter function.[2, 3, 6, 9, 27, 60, 90, 120, 55, 46]\n"
   ]
  },
  {
   "cell_type": "code",
   "execution_count": 90,
   "id": "852701b3",
   "metadata": {},
   "outputs": [
    {
     "name": "stdout",
     "output_type": "stream",
     "text": [
      "The list containing the number divisible by 2 and 3 :  [6, 60, 90, 120]\n"
     ]
    }
   ],
   "source": [
    "list1 = [2, 3, 6, 9, 27, 60, 90, 120, 55, 46]\n",
    "\n",
    "def func(num):\n",
    "    if num % 2 == 0 and num % 3 == 0:\n",
    "        return num\n",
    "    else:\n",
    "        pass\n",
    "\n",
    "list_div = list(filter(func,list1))\n",
    "\n",
    "print(\"The list containing the number divisible by 2 and 3 : \",list_div)\n"
   ]
  },
  {
   "cell_type": "markdown",
   "id": "1d47bdb5",
   "metadata": {},
   "source": [
    "### Q6. Write a python program to find palindromes in the given list of strings using lambda and filter function.['python', 'php', 'aba', 'radar', 'level']"
   ]
  },
  {
   "cell_type": "code",
   "execution_count": 91,
   "id": "3448b23d",
   "metadata": {},
   "outputs": [
    {
     "name": "stdout",
     "output_type": "stream",
     "text": [
      "List of the items which are palidromes are:  ['php', 'aba', 'radar', 'level']\n"
     ]
    }
   ],
   "source": [
    "list1 = ['python', 'php', 'aba', 'radar', 'level']\n",
    "\n",
    "# checking for string symmetry and filtering out the result\n",
    "\n",
    "filtered_palindrome = list(filter(lambda x : x if (x == x[::-1]) else None , list1)) \n",
    "\n",
    "print('List of the items which are palidromes are: ',filtered_palindrome)"
   ]
  },
  {
   "cell_type": "code",
   "execution_count": null,
   "id": "d2581a7a",
   "metadata": {},
   "outputs": [],
   "source": []
  }
 ],
 "metadata": {
  "kernelspec": {
   "display_name": "Python 3",
   "language": "python",
   "name": "python3"
  },
  "language_info": {
   "codemirror_mode": {
    "name": "ipython",
    "version": 3
   },
   "file_extension": ".py",
   "mimetype": "text/x-python",
   "name": "python",
   "nbconvert_exporter": "python",
   "pygments_lexer": "ipython3",
   "version": "3.8.8"
  }
 },
 "nbformat": 4,
 "nbformat_minor": 5
}
